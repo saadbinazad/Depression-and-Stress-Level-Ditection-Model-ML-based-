{
 "cells": [
  {
   "cell_type": "code",
   "execution_count": 112,
   "id": "4fc1801f-ca29-4745-bfc6-8d929e90e02d",
   "metadata": {},
   "outputs": [],
   "source": [
    "import numpy as np\n",
    "import pandas as pd\n",
    "from matplotlib import pyplot as plt\n",
    "import seaborn as sns"
   ]
  },
  {
   "cell_type": "code",
   "execution_count": 3,
   "id": "0b882419-1fc3-49c8-a63b-36b1b99c7531",
   "metadata": {},
   "outputs": [],
   "source": [
    " df = pd.read_csv('Raw.csv')"
   ]
  },
  {
   "cell_type": "markdown",
   "id": "6c80444c-643c-4186-a11e-494df9d425ab",
   "metadata": {},
   "source": [
    "# Data Pre-processing (Entire Dataset)"
   ]
  },
  {
   "cell_type": "code",
   "execution_count": 28,
   "id": "697cb421-cdbc-44ad-a117-2ac232410a77",
   "metadata": {},
   "outputs": [
    {
     "data": {
      "application/vnd.jupyter.widget-view+json": {
       "model_id": "ecd095404c8246b694dc5a0118230cd5",
       "version_major": 2,
       "version_minor": 0
      },
      "text/plain": [
       "Summarize dataset:   0%|          | 0/5 [00:00<?, ?it/s]"
      ]
     },
     "metadata": {},
     "output_type": "display_data"
    },
    {
     "name": "stderr",
     "output_type": "stream",
     "text": [
      "\n",
      "  0%|                                                                                           | 0/39 [00:00<?, ?it/s]\u001b[A\n",
      "  5%|████▎                                                                              | 2/39 [00:00<00:01, 19.72it/s]\u001b[A\n",
      " 10%|████████▌                                                                          | 4/39 [00:00<00:05,  5.89it/s]\u001b[A\n",
      "100%|██████████████████████████████████████████████████████████████████████████████████| 39/39 [00:00<00:00, 48.37it/s]\u001b[A\n"
     ]
    },
    {
     "data": {
      "application/vnd.jupyter.widget-view+json": {
       "model_id": "c773377980bd469aa65562519ea3ea21",
       "version_major": 2,
       "version_minor": 0
      },
      "text/plain": [
       "Generate report structure:   0%|          | 0/1 [00:00<?, ?it/s]"
      ]
     },
     "metadata": {},
     "output_type": "display_data"
    },
    {
     "data": {
      "application/vnd.jupyter.widget-view+json": {
       "model_id": "72d476a30ce34d21ba49592b18b0dce6",
       "version_major": 2,
       "version_minor": 0
      },
      "text/plain": [
       "Render HTML:   0%|          | 0/1 [00:00<?, ?it/s]"
      ]
     },
     "metadata": {},
     "output_type": "display_data"
    },
    {
     "data": {
      "application/vnd.jupyter.widget-view+json": {
       "model_id": "30a914f7f17945798c19b3aeb9fbb1af",
       "version_major": 2,
       "version_minor": 0
      },
      "text/plain": [
       "Export report to file:   0%|          | 0/1 [00:00<?, ?it/s]"
      ]
     },
     "metadata": {},
     "output_type": "display_data"
    }
   ],
   "source": [
    "from ydata_profiling import ProfileReport\n",
    "profile = ProfileReport(df, title=\"Data Profiling Report\")\n",
    "profile.to_file(\"All.html\")"
   ]
  },
  {
   "cell_type": "code",
   "execution_count": 51,
   "id": "47253620-20a5-424a-9526-e8fefc465e0d",
   "metadata": {},
   "outputs": [
    {
     "name": "stdout",
     "output_type": "stream",
     "text": [
      "<class 'pandas.core.frame.DataFrame'>\n",
      "RangeIndex: 1977 entries, 0 to 1976\n",
      "Data columns (total 39 columns):\n",
      " #   Column                  Non-Null Count  Dtype \n",
      "---  ------                  --------------  ----- \n",
      " 0   Age                     1977 non-null   object\n",
      " 1   Gender                  1977 non-null   object\n",
      " 2   University              1977 non-null   object\n",
      " 3   Department              1977 non-null   object\n",
      " 4   Academic_Year           1977 non-null   object\n",
      " 5   CGPA                    1977 non-null   object\n",
      " 6   Scholarship             1977 non-null   object\n",
      " 7   Anxious                 1977 non-null   int64 \n",
      " 8   Worrying                1977 non-null   int64 \n",
      " 9   Relaxing_Difficulty     1977 non-null   int64 \n",
      " 10  Annoyed                 1977 non-null   int64 \n",
      " 11  Excessive_Worry         1977 non-null   int64 \n",
      " 12  Restless                1977 non-null   int64 \n",
      " 13  Fearful                 1977 non-null   int64 \n",
      " 14  Anxiety_Score           1977 non-null   int64 \n",
      " 15  Anxiety_Level           1977 non-null   object\n",
      " 16  Upset                   1977 non-null   int64 \n",
      " 17  No_Control              1977 non-null   int64 \n",
      " 18  Stressed                1977 non-null   int64 \n",
      " 19  Overwhelmed             1977 non-null   int64 \n",
      " 20  Confident               1977 non-null   int64 \n",
      " 21  Academic_Control        1977 non-null   int64 \n",
      " 22  Irritation_Control      1977 non-null   int64 \n",
      " 23  Top_Performance         1977 non-null   int64 \n",
      " 24  Angered_By_Grades       1977 non-null   int64 \n",
      " 25  Piled_Up_Difficulties   1977 non-null   int64 \n",
      " 26  Stress_Score            1977 non-null   int64 \n",
      " 27  Stress_Level            1977 non-null   object\n",
      " 28  No_Interest             1977 non-null   int64 \n",
      " 29  Hopeless                1977 non-null   int64 \n",
      " 30  Sleep_Trouble           1977 non-null   int64 \n",
      " 31  Low_Energy              1977 non-null   int64 \n",
      " 32  Appetite_Changes        1977 non-null   int64 \n",
      " 33  Low_Self_Worth          1977 non-null   int64 \n",
      " 34  Concentration_Problems  1977 non-null   int64 \n",
      " 35  Movement_Changes        1977 non-null   int64 \n",
      " 36  Self_Harm_Thoughts      1977 non-null   int64 \n",
      " 37  Depression_Score        1977 non-null   int64 \n",
      " 38  Depression_Level        1977 non-null   object\n",
      "dtypes: int64(29), object(10)\n",
      "memory usage: 602.5+ KB\n"
     ]
    }
   ],
   "source": [
    "df.info()"
   ]
  },
  {
   "cell_type": "code",
   "execution_count": 52,
   "id": "5b89f7d7-b168-4551-b253-130a3030216c",
   "metadata": {},
   "outputs": [
    {
     "data": {
      "text/html": [
       "<div>\n",
       "<style scoped>\n",
       "    .dataframe tbody tr th:only-of-type {\n",
       "        vertical-align: middle;\n",
       "    }\n",
       "\n",
       "    .dataframe tbody tr th {\n",
       "        vertical-align: top;\n",
       "    }\n",
       "\n",
       "    .dataframe thead th {\n",
       "        text-align: right;\n",
       "    }\n",
       "</style>\n",
       "<table border=\"1\" class=\"dataframe\">\n",
       "  <thead>\n",
       "    <tr style=\"text-align: right;\">\n",
       "      <th></th>\n",
       "      <th>Age</th>\n",
       "      <th>Gender</th>\n",
       "      <th>University</th>\n",
       "      <th>Department</th>\n",
       "      <th>Academic_Year</th>\n",
       "      <th>CGPA</th>\n",
       "      <th>Scholarship</th>\n",
       "      <th>Anxious</th>\n",
       "      <th>Worrying</th>\n",
       "      <th>Relaxing_Difficulty</th>\n",
       "      <th>...</th>\n",
       "      <th>Hopeless</th>\n",
       "      <th>Sleep_Trouble</th>\n",
       "      <th>Low_Energy</th>\n",
       "      <th>Appetite_Changes</th>\n",
       "      <th>Low_Self_Worth</th>\n",
       "      <th>Concentration_Problems</th>\n",
       "      <th>Movement_Changes</th>\n",
       "      <th>Self_Harm_Thoughts</th>\n",
       "      <th>Depression_Score</th>\n",
       "      <th>Depression_Level</th>\n",
       "    </tr>\n",
       "  </thead>\n",
       "  <tbody>\n",
       "    <tr>\n",
       "      <th>0</th>\n",
       "      <td>18-22</td>\n",
       "      <td>Female</td>\n",
       "      <td>Independent University, Bangladesh (IUB)</td>\n",
       "      <td>Engineering - CS / CSE / CSC / Similar to CS</td>\n",
       "      <td>Fourth Year or Equivalent</td>\n",
       "      <td>2.50 - 2.99</td>\n",
       "      <td>No</td>\n",
       "      <td>1</td>\n",
       "      <td>1</td>\n",
       "      <td>1</td>\n",
       "      <td>...</td>\n",
       "      <td>2</td>\n",
       "      <td>1</td>\n",
       "      <td>1</td>\n",
       "      <td>2</td>\n",
       "      <td>1</td>\n",
       "      <td>1</td>\n",
       "      <td>1</td>\n",
       "      <td>1</td>\n",
       "      <td>11</td>\n",
       "      <td>Moderate Depression</td>\n",
       "    </tr>\n",
       "    <tr>\n",
       "      <th>1</th>\n",
       "      <td>18-22</td>\n",
       "      <td>Male</td>\n",
       "      <td>Independent University, Bangladesh (IUB)</td>\n",
       "      <td>Engineering - CS / CSE / CSC / Similar to CS</td>\n",
       "      <td>First Year or Equivalent</td>\n",
       "      <td>3.80 - 4.00</td>\n",
       "      <td>No</td>\n",
       "      <td>2</td>\n",
       "      <td>2</td>\n",
       "      <td>1</td>\n",
       "      <td>...</td>\n",
       "      <td>1</td>\n",
       "      <td>1</td>\n",
       "      <td>1</td>\n",
       "      <td>1</td>\n",
       "      <td>1</td>\n",
       "      <td>1</td>\n",
       "      <td>1</td>\n",
       "      <td>1</td>\n",
       "      <td>9</td>\n",
       "      <td>Mild Depression</td>\n",
       "    </tr>\n",
       "    <tr>\n",
       "      <th>2</th>\n",
       "      <td>18-22</td>\n",
       "      <td>Male</td>\n",
       "      <td>Independent University, Bangladesh (IUB)</td>\n",
       "      <td>Engineering - CS / CSE / CSC / Similar to CS</td>\n",
       "      <td>First Year or Equivalent</td>\n",
       "      <td>3.00 - 3.39</td>\n",
       "      <td>No</td>\n",
       "      <td>2</td>\n",
       "      <td>1</td>\n",
       "      <td>1</td>\n",
       "      <td>...</td>\n",
       "      <td>0</td>\n",
       "      <td>2</td>\n",
       "      <td>3</td>\n",
       "      <td>2</td>\n",
       "      <td>2</td>\n",
       "      <td>2</td>\n",
       "      <td>2</td>\n",
       "      <td>1</td>\n",
       "      <td>16</td>\n",
       "      <td>Moderately Severe Depression</td>\n",
       "    </tr>\n",
       "    <tr>\n",
       "      <th>3</th>\n",
       "      <td>18-22</td>\n",
       "      <td>Male</td>\n",
       "      <td>Independent University, Bangladesh (IUB)</td>\n",
       "      <td>Engineering - CS / CSE / CSC / Similar to CS</td>\n",
       "      <td>First Year or Equivalent</td>\n",
       "      <td>3.40 - 3.79</td>\n",
       "      <td>No</td>\n",
       "      <td>2</td>\n",
       "      <td>1</td>\n",
       "      <td>1</td>\n",
       "      <td>...</td>\n",
       "      <td>1</td>\n",
       "      <td>1</td>\n",
       "      <td>1</td>\n",
       "      <td>1</td>\n",
       "      <td>1</td>\n",
       "      <td>1</td>\n",
       "      <td>1</td>\n",
       "      <td>1</td>\n",
       "      <td>9</td>\n",
       "      <td>Mild Depression</td>\n",
       "    </tr>\n",
       "    <tr>\n",
       "      <th>4</th>\n",
       "      <td>18-22</td>\n",
       "      <td>Male</td>\n",
       "      <td>Independent University, Bangladesh (IUB)</td>\n",
       "      <td>Engineering - CS / CSE / CSC / Similar to CS</td>\n",
       "      <td>First Year or Equivalent</td>\n",
       "      <td>3.40 - 3.79</td>\n",
       "      <td>No</td>\n",
       "      <td>1</td>\n",
       "      <td>1</td>\n",
       "      <td>1</td>\n",
       "      <td>...</td>\n",
       "      <td>1</td>\n",
       "      <td>1</td>\n",
       "      <td>1</td>\n",
       "      <td>1</td>\n",
       "      <td>1</td>\n",
       "      <td>1</td>\n",
       "      <td>1</td>\n",
       "      <td>1</td>\n",
       "      <td>9</td>\n",
       "      <td>Mild Depression</td>\n",
       "    </tr>\n",
       "  </tbody>\n",
       "</table>\n",
       "<p>5 rows × 39 columns</p>\n",
       "</div>"
      ],
      "text/plain": [
       "     Age  Gender                                University  \\\n",
       "0  18-22  Female  Independent University, Bangladesh (IUB)   \n",
       "1  18-22    Male  Independent University, Bangladesh (IUB)   \n",
       "2  18-22    Male  Independent University, Bangladesh (IUB)   \n",
       "3  18-22    Male  Independent University, Bangladesh (IUB)   \n",
       "4  18-22    Male  Independent University, Bangladesh (IUB)   \n",
       "\n",
       "                                     Department              Academic_Year  \\\n",
       "0  Engineering - CS / CSE / CSC / Similar to CS  Fourth Year or Equivalent   \n",
       "1  Engineering - CS / CSE / CSC / Similar to CS   First Year or Equivalent   \n",
       "2  Engineering - CS / CSE / CSC / Similar to CS   First Year or Equivalent   \n",
       "3  Engineering - CS / CSE / CSC / Similar to CS   First Year or Equivalent   \n",
       "4  Engineering - CS / CSE / CSC / Similar to CS   First Year or Equivalent   \n",
       "\n",
       "          CGPA Scholarship  Anxious  Worrying  Relaxing_Difficulty  ...  \\\n",
       "0  2.50 - 2.99          No        1         1                    1  ...   \n",
       "1  3.80 - 4.00          No        2         2                    1  ...   \n",
       "2  3.00 - 3.39          No        2         1                    1  ...   \n",
       "3  3.40 - 3.79          No        2         1                    1  ...   \n",
       "4  3.40 - 3.79          No        1         1                    1  ...   \n",
       "\n",
       "   Hopeless  Sleep_Trouble  Low_Energy  Appetite_Changes  Low_Self_Worth  \\\n",
       "0         2              1           1                 2               1   \n",
       "1         1              1           1                 1               1   \n",
       "2         0              2           3                 2               2   \n",
       "3         1              1           1                 1               1   \n",
       "4         1              1           1                 1               1   \n",
       "\n",
       "  Concentration_Problems  Movement_Changes  Self_Harm_Thoughts  \\\n",
       "0                      1                 1                   1   \n",
       "1                      1                 1                   1   \n",
       "2                      2                 2                   1   \n",
       "3                      1                 1                   1   \n",
       "4                      1                 1                   1   \n",
       "\n",
       "   Depression_Score              Depression_Level  \n",
       "0                11           Moderate Depression  \n",
       "1                 9               Mild Depression  \n",
       "2                16  Moderately Severe Depression  \n",
       "3                 9               Mild Depression  \n",
       "4                 9               Mild Depression  \n",
       "\n",
       "[5 rows x 39 columns]"
      ]
     },
     "execution_count": 52,
     "metadata": {},
     "output_type": "execute_result"
    }
   ],
   "source": [
    "df.head()"
   ]
  },
  {
   "cell_type": "code",
   "execution_count": 6,
   "id": "b2cdebf9-e6fe-4a58-914c-7cd4f1c3ec58",
   "metadata": {},
   "outputs": [
    {
     "data": {
      "text/html": [
       "<div>\n",
       "<style scoped>\n",
       "    .dataframe tbody tr th:only-of-type {\n",
       "        vertical-align: middle;\n",
       "    }\n",
       "\n",
       "    .dataframe tbody tr th {\n",
       "        vertical-align: top;\n",
       "    }\n",
       "\n",
       "    .dataframe thead th {\n",
       "        text-align: right;\n",
       "    }\n",
       "</style>\n",
       "<table border=\"1\" class=\"dataframe\">\n",
       "  <thead>\n",
       "    <tr style=\"text-align: right;\">\n",
       "      <th></th>\n",
       "      <th>Age</th>\n",
       "      <th>Gender</th>\n",
       "      <th>University</th>\n",
       "      <th>Department</th>\n",
       "      <th>Academic_Year</th>\n",
       "      <th>CGPA</th>\n",
       "      <th>Scholarship</th>\n",
       "      <th>Anxious</th>\n",
       "      <th>Worrying</th>\n",
       "      <th>Relaxing_Difficulty</th>\n",
       "      <th>...</th>\n",
       "      <th>Hopeless</th>\n",
       "      <th>Sleep_Trouble</th>\n",
       "      <th>Low_Energy</th>\n",
       "      <th>Appetite_Changes</th>\n",
       "      <th>Low_Self_Worth</th>\n",
       "      <th>Concentration_Problems</th>\n",
       "      <th>Movement_Changes</th>\n",
       "      <th>Self_Harm_Thoughts</th>\n",
       "      <th>Depression_Score</th>\n",
       "      <th>Depression_Level</th>\n",
       "    </tr>\n",
       "  </thead>\n",
       "  <tbody>\n",
       "    <tr>\n",
       "      <th>1972</th>\n",
       "      <td>23-26</td>\n",
       "      <td>Male</td>\n",
       "      <td>Bangladesh Agricultural University (BAU)</td>\n",
       "      <td>Biological Sciences</td>\n",
       "      <td>Fourth Year or Equivalent</td>\n",
       "      <td>3.40 - 3.79</td>\n",
       "      <td>No</td>\n",
       "      <td>1</td>\n",
       "      <td>2</td>\n",
       "      <td>2</td>\n",
       "      <td>...</td>\n",
       "      <td>2</td>\n",
       "      <td>1</td>\n",
       "      <td>2</td>\n",
       "      <td>2</td>\n",
       "      <td>1</td>\n",
       "      <td>1</td>\n",
       "      <td>1</td>\n",
       "      <td>1</td>\n",
       "      <td>13</td>\n",
       "      <td>Moderate Depression</td>\n",
       "    </tr>\n",
       "    <tr>\n",
       "      <th>1973</th>\n",
       "      <td>23-26</td>\n",
       "      <td>Female</td>\n",
       "      <td>Bangladesh Agricultural University (BAU)</td>\n",
       "      <td>Other</td>\n",
       "      <td>Fourth Year or Equivalent</td>\n",
       "      <td>3.40 - 3.79</td>\n",
       "      <td>No</td>\n",
       "      <td>2</td>\n",
       "      <td>2</td>\n",
       "      <td>2</td>\n",
       "      <td>...</td>\n",
       "      <td>2</td>\n",
       "      <td>1</td>\n",
       "      <td>2</td>\n",
       "      <td>1</td>\n",
       "      <td>0</td>\n",
       "      <td>1</td>\n",
       "      <td>1</td>\n",
       "      <td>0</td>\n",
       "      <td>9</td>\n",
       "      <td>Mild Depression</td>\n",
       "    </tr>\n",
       "    <tr>\n",
       "      <th>1974</th>\n",
       "      <td>23-26</td>\n",
       "      <td>Female</td>\n",
       "      <td>Bangladesh Agricultural University (BAU)</td>\n",
       "      <td>Biological Sciences</td>\n",
       "      <td>Other</td>\n",
       "      <td>3.80 - 4.00</td>\n",
       "      <td>No</td>\n",
       "      <td>1</td>\n",
       "      <td>0</td>\n",
       "      <td>1</td>\n",
       "      <td>...</td>\n",
       "      <td>3</td>\n",
       "      <td>3</td>\n",
       "      <td>3</td>\n",
       "      <td>3</td>\n",
       "      <td>3</td>\n",
       "      <td>3</td>\n",
       "      <td>1</td>\n",
       "      <td>0</td>\n",
       "      <td>22</td>\n",
       "      <td>Severe Depression</td>\n",
       "    </tr>\n",
       "    <tr>\n",
       "      <th>1975</th>\n",
       "      <td>23-26</td>\n",
       "      <td>Male</td>\n",
       "      <td>Bangladesh Agricultural University (BAU)</td>\n",
       "      <td>Other</td>\n",
       "      <td>Fourth Year or Equivalent</td>\n",
       "      <td>3.00 - 3.39</td>\n",
       "      <td>No</td>\n",
       "      <td>1</td>\n",
       "      <td>1</td>\n",
       "      <td>1</td>\n",
       "      <td>...</td>\n",
       "      <td>1</td>\n",
       "      <td>1</td>\n",
       "      <td>2</td>\n",
       "      <td>2</td>\n",
       "      <td>1</td>\n",
       "      <td>2</td>\n",
       "      <td>2</td>\n",
       "      <td>0</td>\n",
       "      <td>11</td>\n",
       "      <td>Moderate Depression</td>\n",
       "    </tr>\n",
       "    <tr>\n",
       "      <th>1976</th>\n",
       "      <td>23-26</td>\n",
       "      <td>Male</td>\n",
       "      <td>Independent University, Bangladesh (IUB)</td>\n",
       "      <td>Engineering - CS / CSE / CSC / Similar to CS</td>\n",
       "      <td>Third Year or Equivalent</td>\n",
       "      <td>2.50 - 2.99</td>\n",
       "      <td>No</td>\n",
       "      <td>1</td>\n",
       "      <td>1</td>\n",
       "      <td>0</td>\n",
       "      <td>...</td>\n",
       "      <td>0</td>\n",
       "      <td>0</td>\n",
       "      <td>0</td>\n",
       "      <td>0</td>\n",
       "      <td>0</td>\n",
       "      <td>0</td>\n",
       "      <td>0</td>\n",
       "      <td>0</td>\n",
       "      <td>0</td>\n",
       "      <td>No Depression</td>\n",
       "    </tr>\n",
       "  </tbody>\n",
       "</table>\n",
       "<p>5 rows × 39 columns</p>\n",
       "</div>"
      ],
      "text/plain": [
       "        Age  Gender                                University  \\\n",
       "1972  23-26    Male  Bangladesh Agricultural University (BAU)   \n",
       "1973  23-26  Female  Bangladesh Agricultural University (BAU)   \n",
       "1974  23-26  Female  Bangladesh Agricultural University (BAU)   \n",
       "1975  23-26    Male  Bangladesh Agricultural University (BAU)   \n",
       "1976  23-26    Male  Independent University, Bangladesh (IUB)   \n",
       "\n",
       "                                        Department              Academic_Year  \\\n",
       "1972                           Biological Sciences  Fourth Year or Equivalent   \n",
       "1973                                         Other  Fourth Year or Equivalent   \n",
       "1974                           Biological Sciences                      Other   \n",
       "1975                                         Other  Fourth Year or Equivalent   \n",
       "1976  Engineering - CS / CSE / CSC / Similar to CS   Third Year or Equivalent   \n",
       "\n",
       "             CGPA Scholarship  Anxious  Worrying  Relaxing_Difficulty  ...  \\\n",
       "1972  3.40 - 3.79          No        1         2                    2  ...   \n",
       "1973  3.40 - 3.79          No        2         2                    2  ...   \n",
       "1974  3.80 - 4.00          No        1         0                    1  ...   \n",
       "1975  3.00 - 3.39          No        1         1                    1  ...   \n",
       "1976  2.50 - 2.99          No        1         1                    0  ...   \n",
       "\n",
       "      Hopeless  Sleep_Trouble  Low_Energy  Appetite_Changes  Low_Self_Worth  \\\n",
       "1972         2              1           2                 2               1   \n",
       "1973         2              1           2                 1               0   \n",
       "1974         3              3           3                 3               3   \n",
       "1975         1              1           2                 2               1   \n",
       "1976         0              0           0                 0               0   \n",
       "\n",
       "     Concentration_Problems  Movement_Changes  Self_Harm_Thoughts  \\\n",
       "1972                      1                 1                   1   \n",
       "1973                      1                 1                   0   \n",
       "1974                      3                 1                   0   \n",
       "1975                      2                 2                   0   \n",
       "1976                      0                 0                   0   \n",
       "\n",
       "      Depression_Score     Depression_Level  \n",
       "1972                13  Moderate Depression  \n",
       "1973                 9      Mild Depression  \n",
       "1974                22    Severe Depression  \n",
       "1975                11  Moderate Depression  \n",
       "1976                 0        No Depression  \n",
       "\n",
       "[5 rows x 39 columns]"
      ]
     },
     "execution_count": 6,
     "metadata": {},
     "output_type": "execute_result"
    }
   ],
   "source": [
    "df.tail()"
   ]
  },
  {
   "cell_type": "code",
   "execution_count": 7,
   "id": "8ac2dcb4-9be0-4bbd-a241-7b3fc2dcec43",
   "metadata": {},
   "outputs": [
    {
     "data": {
      "text/plain": [
       "(1977, 39)"
      ]
     },
     "execution_count": 7,
     "metadata": {},
     "output_type": "execute_result"
    }
   ],
   "source": [
    "df.shape"
   ]
  },
  {
   "cell_type": "code",
   "execution_count": 8,
   "id": "3ed2c8ac-903f-4825-aed7-99526f7ba110",
   "metadata": {},
   "outputs": [
    {
     "data": {
      "text/plain": [
       "77103"
      ]
     },
     "execution_count": 8,
     "metadata": {},
     "output_type": "execute_result"
    }
   ],
   "source": [
    "df.size"
   ]
  },
  {
   "cell_type": "code",
   "execution_count": 9,
   "id": "191a54d9-3c49-4697-90d7-4f58c361ba5a",
   "metadata": {},
   "outputs": [
    {
     "data": {
      "text/plain": [
       "array([['18-22', 'Female'],\n",
       "       ['18-22', 'Male'],\n",
       "       ['18-22', 'Male'],\n",
       "       ...,\n",
       "       ['23-26', 'Female'],\n",
       "       ['23-26', 'Male'],\n",
       "       ['23-26', 'Male']], dtype=object)"
      ]
     },
     "execution_count": 9,
     "metadata": {},
     "output_type": "execute_result"
    }
   ],
   "source": [
    "df[['Age', 'Gender']].values\n"
   ]
  },
  {
   "cell_type": "markdown",
   "id": "748d4787-86ab-4e46-aafe-e8085c378b54",
   "metadata": {},
   "source": [
    "# Working on Depression (Individually)"
   ]
  },
  {
   "cell_type": "code",
   "execution_count": 38,
   "id": "466bf330-13a8-4060-8420-58c8e922ec27",
   "metadata": {},
   "outputs": [],
   "source": [
    "# Separate the Independent and Dependent variables\n",
    "X = df[['Age','Gender','CGPA','Academic_Year','Scholarship', 'No_Interest', 'Hopeless', 'Sleep_Trouble','Low_Energy','Appetite_Changes','Low_Self_Worth', \n",
    "'Concentration_Problems','Movement_Changes','Self_Harm_Thoughts']]\n",
    "y = df['Depression_Level']"
   ]
  },
  {
   "cell_type": "code",
   "execution_count": 5,
   "id": "c093aedb-84ff-4550-876e-d8b595847c4b",
   "metadata": {},
   "outputs": [
    {
     "data": {
      "text/html": [
       "<div>\n",
       "<style scoped>\n",
       "    .dataframe tbody tr th:only-of-type {\n",
       "        vertical-align: middle;\n",
       "    }\n",
       "\n",
       "    .dataframe tbody tr th {\n",
       "        vertical-align: top;\n",
       "    }\n",
       "\n",
       "    .dataframe thead th {\n",
       "        text-align: right;\n",
       "    }\n",
       "</style>\n",
       "<table border=\"1\" class=\"dataframe\">\n",
       "  <thead>\n",
       "    <tr style=\"text-align: right;\">\n",
       "      <th></th>\n",
       "      <th>Age</th>\n",
       "      <th>Gender</th>\n",
       "      <th>CGPA</th>\n",
       "      <th>Academic_Year</th>\n",
       "      <th>Scholarship</th>\n",
       "      <th>No_Interest</th>\n",
       "      <th>Hopeless</th>\n",
       "      <th>Sleep_Trouble</th>\n",
       "      <th>Low_Energy</th>\n",
       "      <th>Appetite_Changes</th>\n",
       "      <th>Low_Self_Worth</th>\n",
       "      <th>Concentration_Problems</th>\n",
       "      <th>Movement_Changes</th>\n",
       "      <th>Self_Harm_Thoughts</th>\n",
       "    </tr>\n",
       "  </thead>\n",
       "  <tbody>\n",
       "    <tr>\n",
       "      <th>0</th>\n",
       "      <td>18-22</td>\n",
       "      <td>Female</td>\n",
       "      <td>2.50 - 2.99</td>\n",
       "      <td>Fourth Year or Equivalent</td>\n",
       "      <td>No</td>\n",
       "      <td>1</td>\n",
       "      <td>2</td>\n",
       "      <td>1</td>\n",
       "      <td>1</td>\n",
       "      <td>2</td>\n",
       "      <td>1</td>\n",
       "      <td>1</td>\n",
       "      <td>1</td>\n",
       "      <td>1</td>\n",
       "    </tr>\n",
       "    <tr>\n",
       "      <th>1</th>\n",
       "      <td>18-22</td>\n",
       "      <td>Male</td>\n",
       "      <td>3.80 - 4.00</td>\n",
       "      <td>First Year or Equivalent</td>\n",
       "      <td>No</td>\n",
       "      <td>1</td>\n",
       "      <td>1</td>\n",
       "      <td>1</td>\n",
       "      <td>1</td>\n",
       "      <td>1</td>\n",
       "      <td>1</td>\n",
       "      <td>1</td>\n",
       "      <td>1</td>\n",
       "      <td>1</td>\n",
       "    </tr>\n",
       "    <tr>\n",
       "      <th>2</th>\n",
       "      <td>18-22</td>\n",
       "      <td>Male</td>\n",
       "      <td>3.00 - 3.39</td>\n",
       "      <td>First Year or Equivalent</td>\n",
       "      <td>No</td>\n",
       "      <td>2</td>\n",
       "      <td>0</td>\n",
       "      <td>2</td>\n",
       "      <td>3</td>\n",
       "      <td>2</td>\n",
       "      <td>2</td>\n",
       "      <td>2</td>\n",
       "      <td>2</td>\n",
       "      <td>1</td>\n",
       "    </tr>\n",
       "    <tr>\n",
       "      <th>3</th>\n",
       "      <td>18-22</td>\n",
       "      <td>Male</td>\n",
       "      <td>3.40 - 3.79</td>\n",
       "      <td>First Year or Equivalent</td>\n",
       "      <td>No</td>\n",
       "      <td>1</td>\n",
       "      <td>1</td>\n",
       "      <td>1</td>\n",
       "      <td>1</td>\n",
       "      <td>1</td>\n",
       "      <td>1</td>\n",
       "      <td>1</td>\n",
       "      <td>1</td>\n",
       "      <td>1</td>\n",
       "    </tr>\n",
       "    <tr>\n",
       "      <th>4</th>\n",
       "      <td>18-22</td>\n",
       "      <td>Male</td>\n",
       "      <td>3.40 - 3.79</td>\n",
       "      <td>First Year or Equivalent</td>\n",
       "      <td>No</td>\n",
       "      <td>1</td>\n",
       "      <td>1</td>\n",
       "      <td>1</td>\n",
       "      <td>1</td>\n",
       "      <td>1</td>\n",
       "      <td>1</td>\n",
       "      <td>1</td>\n",
       "      <td>1</td>\n",
       "      <td>1</td>\n",
       "    </tr>\n",
       "  </tbody>\n",
       "</table>\n",
       "</div>"
      ],
      "text/plain": [
       "     Age  Gender         CGPA              Academic_Year Scholarship  \\\n",
       "0  18-22  Female  2.50 - 2.99  Fourth Year or Equivalent          No   \n",
       "1  18-22    Male  3.80 - 4.00   First Year or Equivalent          No   \n",
       "2  18-22    Male  3.00 - 3.39   First Year or Equivalent          No   \n",
       "3  18-22    Male  3.40 - 3.79   First Year or Equivalent          No   \n",
       "4  18-22    Male  3.40 - 3.79   First Year or Equivalent          No   \n",
       "\n",
       "   No_Interest  Hopeless  Sleep_Trouble  Low_Energy  Appetite_Changes  \\\n",
       "0            1         2              1           1                 2   \n",
       "1            1         1              1           1                 1   \n",
       "2            2         0              2           3                 2   \n",
       "3            1         1              1           1                 1   \n",
       "4            1         1              1           1                 1   \n",
       "\n",
       "   Low_Self_Worth  Concentration_Problems  Movement_Changes  \\\n",
       "0               1                       1                 1   \n",
       "1               1                       1                 1   \n",
       "2               2                       2                 2   \n",
       "3               1                       1                 1   \n",
       "4               1                       1                 1   \n",
       "\n",
       "   Self_Harm_Thoughts  \n",
       "0                   1  \n",
       "1                   1  \n",
       "2                   1  \n",
       "3                   1  \n",
       "4                   1  "
      ]
     },
     "execution_count": 5,
     "metadata": {},
     "output_type": "execute_result"
    }
   ],
   "source": [
    "X.head()"
   ]
  },
  {
   "cell_type": "code",
   "execution_count": 12,
   "id": "db543438-4b68-43b6-8a16-23b3bf522c3b",
   "metadata": {},
   "outputs": [
    {
     "data": {
      "text/plain": [
       "0             Moderate Depression\n",
       "1                 Mild Depression\n",
       "2    Moderately Severe Depression\n",
       "3                 Mild Depression\n",
       "4                 Mild Depression\n",
       "Name: Depression_Level, dtype: object"
      ]
     },
     "execution_count": 12,
     "metadata": {},
     "output_type": "execute_result"
    }
   ],
   "source": [
    "y.head()"
   ]
  },
  {
   "cell_type": "code",
   "execution_count": 13,
   "id": "200fd447-bead-4687-be99-7c733a2c6e27",
   "metadata": {},
   "outputs": [
    {
     "data": {
      "text/plain": [
       "0"
      ]
     },
     "execution_count": 13,
     "metadata": {},
     "output_type": "execute_result"
    }
   ],
   "source": [
    "X.isnull().sum().sum()"
   ]
  },
  {
   "cell_type": "code",
   "execution_count": 14,
   "id": "b9949d77-9d0d-428a-9646-40d05b0b6e66",
   "metadata": {},
   "outputs": [
    {
     "data": {
      "text/plain": [
       "0"
      ]
     },
     "execution_count": 14,
     "metadata": {},
     "output_type": "execute_result"
    }
   ],
   "source": [
    "y.isnull().sum().sum()"
   ]
  },
  {
   "cell_type": "code",
   "execution_count": 15,
   "id": "6fbe821e-3dd8-40ab-9441-d49da6a7d555",
   "metadata": {},
   "outputs": [
    {
     "data": {
      "text/plain": [
       "Depression_Level\n",
       "Moderately Severe Depression    495\n",
       "Severe Depression               488\n",
       "Moderate Depression             449\n",
       "Mild Depression                 408\n",
       "Minimal Depression               93\n",
       "No Depression                    44\n",
       "Name: count, dtype: int64"
      ]
     },
     "execution_count": 15,
     "metadata": {},
     "output_type": "execute_result"
    }
   ],
   "source": [
    "df['Depression_Level'].value_counts()"
   ]
  },
  {
   "cell_type": "code",
   "execution_count": 16,
   "id": "88bc237b-0da5-4cb7-8e85-e82b36841725",
   "metadata": {},
   "outputs": [
    {
     "data": {
      "text/plain": [
       "1977"
      ]
     },
     "execution_count": 16,
     "metadata": {},
     "output_type": "execute_result"
    }
   ],
   "source": [
    "df['Depression_Level'].value_counts().sum()"
   ]
  },
  {
   "cell_type": "code",
   "execution_count": 17,
   "id": "f01e3a5a-6598-4cdf-ad93-5cb34414c8e4",
   "metadata": {},
   "outputs": [
    {
     "data": {
      "text/plain": [
       "Index(['Age', 'Gender', 'Academic_Year', 'Scholarship', 'No_Interest',\n",
       "       'Hopeless', 'Sleep_Trouble', 'Low_Energy', 'Appetite_Changes',\n",
       "       'Low_Self_Worth', 'Concentration_Problems', 'Movement_Changes',\n",
       "       'Self_Harm_Thoughts'],\n",
       "      dtype='object')"
      ]
     },
     "execution_count": 17,
     "metadata": {},
     "output_type": "execute_result"
    }
   ],
   "source": [
    "X.columns"
   ]
  },
  {
   "cell_type": "code",
   "execution_count": 18,
   "id": "f5666942-4a27-44a2-90d1-c1cbe40dab6f",
   "metadata": {},
   "outputs": [
    {
     "data": {
      "text/html": [
       "<div>\n",
       "<style scoped>\n",
       "    .dataframe tbody tr th:only-of-type {\n",
       "        vertical-align: middle;\n",
       "    }\n",
       "\n",
       "    .dataframe tbody tr th {\n",
       "        vertical-align: top;\n",
       "    }\n",
       "\n",
       "    .dataframe thead th {\n",
       "        text-align: right;\n",
       "    }\n",
       "</style>\n",
       "<table border=\"1\" class=\"dataframe\">\n",
       "  <thead>\n",
       "    <tr style=\"text-align: right;\">\n",
       "      <th></th>\n",
       "      <th>No_Interest</th>\n",
       "      <th>Hopeless</th>\n",
       "      <th>Sleep_Trouble</th>\n",
       "      <th>Low_Energy</th>\n",
       "      <th>Appetite_Changes</th>\n",
       "      <th>Low_Self_Worth</th>\n",
       "      <th>Concentration_Problems</th>\n",
       "      <th>Movement_Changes</th>\n",
       "      <th>Self_Harm_Thoughts</th>\n",
       "    </tr>\n",
       "  </thead>\n",
       "  <tbody>\n",
       "    <tr>\n",
       "      <th>count</th>\n",
       "      <td>1977.000000</td>\n",
       "      <td>1977.000000</td>\n",
       "      <td>1977.000000</td>\n",
       "      <td>1977.000000</td>\n",
       "      <td>1977.000000</td>\n",
       "      <td>1977.000000</td>\n",
       "      <td>1977.000000</td>\n",
       "      <td>1977.000000</td>\n",
       "      <td>1977.000000</td>\n",
       "    </tr>\n",
       "    <tr>\n",
       "      <th>mean</th>\n",
       "      <td>1.461305</td>\n",
       "      <td>1.787557</td>\n",
       "      <td>1.656550</td>\n",
       "      <td>1.958523</td>\n",
       "      <td>1.503794</td>\n",
       "      <td>1.781993</td>\n",
       "      <td>1.635812</td>\n",
       "      <td>1.426404</td>\n",
       "      <td>1.162367</td>\n",
       "    </tr>\n",
       "    <tr>\n",
       "      <th>std</th>\n",
       "      <td>0.956358</td>\n",
       "      <td>1.034030</td>\n",
       "      <td>1.060373</td>\n",
       "      <td>0.975561</td>\n",
       "      <td>1.044608</td>\n",
       "      <td>1.073946</td>\n",
       "      <td>1.029864</td>\n",
       "      <td>1.026359</td>\n",
       "      <td>1.135746</td>\n",
       "    </tr>\n",
       "    <tr>\n",
       "      <th>min</th>\n",
       "      <td>0.000000</td>\n",
       "      <td>0.000000</td>\n",
       "      <td>0.000000</td>\n",
       "      <td>0.000000</td>\n",
       "      <td>0.000000</td>\n",
       "      <td>0.000000</td>\n",
       "      <td>0.000000</td>\n",
       "      <td>0.000000</td>\n",
       "      <td>0.000000</td>\n",
       "    </tr>\n",
       "    <tr>\n",
       "      <th>25%</th>\n",
       "      <td>1.000000</td>\n",
       "      <td>1.000000</td>\n",
       "      <td>1.000000</td>\n",
       "      <td>1.000000</td>\n",
       "      <td>1.000000</td>\n",
       "      <td>1.000000</td>\n",
       "      <td>1.000000</td>\n",
       "      <td>1.000000</td>\n",
       "      <td>0.000000</td>\n",
       "    </tr>\n",
       "    <tr>\n",
       "      <th>50%</th>\n",
       "      <td>1.000000</td>\n",
       "      <td>2.000000</td>\n",
       "      <td>2.000000</td>\n",
       "      <td>2.000000</td>\n",
       "      <td>1.000000</td>\n",
       "      <td>2.000000</td>\n",
       "      <td>2.000000</td>\n",
       "      <td>1.000000</td>\n",
       "      <td>1.000000</td>\n",
       "    </tr>\n",
       "    <tr>\n",
       "      <th>75%</th>\n",
       "      <td>2.000000</td>\n",
       "      <td>3.000000</td>\n",
       "      <td>3.000000</td>\n",
       "      <td>3.000000</td>\n",
       "      <td>2.000000</td>\n",
       "      <td>3.000000</td>\n",
       "      <td>3.000000</td>\n",
       "      <td>2.000000</td>\n",
       "      <td>2.000000</td>\n",
       "    </tr>\n",
       "    <tr>\n",
       "      <th>max</th>\n",
       "      <td>3.000000</td>\n",
       "      <td>3.000000</td>\n",
       "      <td>3.000000</td>\n",
       "      <td>3.000000</td>\n",
       "      <td>3.000000</td>\n",
       "      <td>3.000000</td>\n",
       "      <td>3.000000</td>\n",
       "      <td>3.000000</td>\n",
       "      <td>3.000000</td>\n",
       "    </tr>\n",
       "  </tbody>\n",
       "</table>\n",
       "</div>"
      ],
      "text/plain": [
       "       No_Interest     Hopeless  Sleep_Trouble   Low_Energy  Appetite_Changes  \\\n",
       "count  1977.000000  1977.000000    1977.000000  1977.000000       1977.000000   \n",
       "mean      1.461305     1.787557       1.656550     1.958523          1.503794   \n",
       "std       0.956358     1.034030       1.060373     0.975561          1.044608   \n",
       "min       0.000000     0.000000       0.000000     0.000000          0.000000   \n",
       "25%       1.000000     1.000000       1.000000     1.000000          1.000000   \n",
       "50%       1.000000     2.000000       2.000000     2.000000          1.000000   \n",
       "75%       2.000000     3.000000       3.000000     3.000000          2.000000   \n",
       "max       3.000000     3.000000       3.000000     3.000000          3.000000   \n",
       "\n",
       "       Low_Self_Worth  Concentration_Problems  Movement_Changes  \\\n",
       "count     1977.000000             1977.000000       1977.000000   \n",
       "mean         1.781993                1.635812          1.426404   \n",
       "std          1.073946                1.029864          1.026359   \n",
       "min          0.000000                0.000000          0.000000   \n",
       "25%          1.000000                1.000000          1.000000   \n",
       "50%          2.000000                2.000000          1.000000   \n",
       "75%          3.000000                3.000000          2.000000   \n",
       "max          3.000000                3.000000          3.000000   \n",
       "\n",
       "       Self_Harm_Thoughts  \n",
       "count         1977.000000  \n",
       "mean             1.162367  \n",
       "std              1.135746  \n",
       "min              0.000000  \n",
       "25%              0.000000  \n",
       "50%              1.000000  \n",
       "75%              2.000000  \n",
       "max              3.000000  "
      ]
     },
     "execution_count": 18,
     "metadata": {},
     "output_type": "execute_result"
    }
   ],
   "source": [
    "X.describe()"
   ]
  },
  {
   "cell_type": "code",
   "execution_count": 19,
   "id": "4c1c8f04-1d22-4c82-a170-300a230630e4",
   "metadata": {},
   "outputs": [
    {
     "data": {
      "text/plain": [
       "Age                       object\n",
       "Gender                    object\n",
       "Academic_Year             object\n",
       "Scholarship               object\n",
       "No_Interest                int64\n",
       "Hopeless                   int64\n",
       "Sleep_Trouble              int64\n",
       "Low_Energy                 int64\n",
       "Appetite_Changes           int64\n",
       "Low_Self_Worth             int64\n",
       "Concentration_Problems     int64\n",
       "Movement_Changes           int64\n",
       "Self_Harm_Thoughts         int64\n",
       "dtype: object"
      ]
     },
     "execution_count": 19,
     "metadata": {},
     "output_type": "execute_result"
    }
   ],
   "source": [
    "X.dtypes"
   ]
  },
  {
   "cell_type": "code",
   "execution_count": 20,
   "id": "5e0231a3-9657-4528-8273-ef9276d03105",
   "metadata": {},
   "outputs": [
    {
     "data": {
      "text/plain": [
       "dtype('O')"
      ]
     },
     "execution_count": 20,
     "metadata": {},
     "output_type": "execute_result"
    }
   ],
   "source": [
    "y.dtypes"
   ]
  },
  {
   "cell_type": "code",
   "execution_count": 21,
   "id": "79a97399-9f23-4ae5-ba31-37519d15e5a2",
   "metadata": {},
   "outputs": [
    {
     "data": {
      "text/plain": [
       "Age                       object\n",
       "Gender                    object\n",
       "University                object\n",
       "Department                object\n",
       "Academic_Year             object\n",
       "CGPA                      object\n",
       "Scholarship               object\n",
       "Anxious                    int64\n",
       "Worrying                   int64\n",
       "Relaxing_Difficulty        int64\n",
       "Annoyed                    int64\n",
       "Excessive_Worry            int64\n",
       "Restless                   int64\n",
       "Fearful                    int64\n",
       "Anxiety_Score              int64\n",
       "Anxiety_Level             object\n",
       "Upset                      int64\n",
       "No_Control                 int64\n",
       "Stressed                   int64\n",
       "Overwhelmed                int64\n",
       "Confident                  int64\n",
       "Academic_Control           int64\n",
       "Irritation_Control         int64\n",
       "Top_Performance            int64\n",
       "Angered_By_Grades          int64\n",
       "Piled_Up_Difficulties      int64\n",
       "Stress_Score               int64\n",
       "Stress_Level              object\n",
       "No_Interest                int64\n",
       "Hopeless                   int64\n",
       "Sleep_Trouble              int64\n",
       "Low_Energy                 int64\n",
       "Appetite_Changes           int64\n",
       "Low_Self_Worth             int64\n",
       "Concentration_Problems     int64\n",
       "Movement_Changes           int64\n",
       "Self_Harm_Thoughts         int64\n",
       "Depression_Score           int64\n",
       "Depression_Level          object\n",
       "dtype: object"
      ]
     },
     "execution_count": 21,
     "metadata": {},
     "output_type": "execute_result"
    }
   ],
   "source": [
    "df.dtypes"
   ]
  },
  {
   "cell_type": "code",
   "execution_count": 22,
   "id": "cdcaed05-bdd3-4a81-abce-9885e8a5307a",
   "metadata": {},
   "outputs": [
    {
     "data": {
      "text/plain": [
       "1972    Moderate Depression\n",
       "1973        Mild Depression\n",
       "1974      Severe Depression\n",
       "1975    Moderate Depression\n",
       "1976          No Depression\n",
       "Name: Depression_Level, dtype: object"
      ]
     },
     "execution_count": 22,
     "metadata": {},
     "output_type": "execute_result"
    }
   ],
   "source": [
    "y.tail()"
   ]
  },
  {
   "cell_type": "code",
   "execution_count": 6,
   "id": "522e3ca0-7d63-4ff4-8780-39df64072c30",
   "metadata": {},
   "outputs": [],
   "source": [
    "from ydata_profiling import ProfileReport\n",
    "import pandas as pd\n",
    "\n",
    "# Combine independent (X) and dependent (y) variables into one DataFrame\n",
    "df_xy = pd.concat([X, y], axis=1)\n",
    "\n",
    "\n"
   ]
  },
  {
   "cell_type": "code",
   "execution_count": 7,
   "id": "74b1db8c-7d86-4912-a3ad-670d1763458e",
   "metadata": {},
   "outputs": [
    {
     "data": {
      "application/vnd.jupyter.widget-view+json": {
       "model_id": "8f8881b412a248d5b43a307d78c5da34",
       "version_major": 2,
       "version_minor": 0
      },
      "text/plain": [
       "Summarize dataset:   0%|          | 0/5 [00:00<?, ?it/s]"
      ]
     },
     "metadata": {},
     "output_type": "display_data"
    },
    {
     "name": "stderr",
     "output_type": "stream",
     "text": [
      "\n",
      "  0%|                                                                                           | 0/15 [00:00<?, ?it/s]\u001b[A\n",
      "100%|█████████████████████████████████████████████████████████████████████████████████| 15/15 [00:00<00:00, 141.52it/s]\u001b[A\n"
     ]
    },
    {
     "data": {
      "application/vnd.jupyter.widget-view+json": {
       "model_id": "90c1c75978f148debb83eda05bfca729",
       "version_major": 2,
       "version_minor": 0
      },
      "text/plain": [
       "Generate report structure:   0%|          | 0/1 [00:00<?, ?it/s]"
      ]
     },
     "metadata": {},
     "output_type": "display_data"
    },
    {
     "data": {
      "application/vnd.jupyter.widget-view+json": {
       "model_id": "da06e1d7f3484aa0a7336777a9d39a47",
       "version_major": 2,
       "version_minor": 0
      },
      "text/plain": [
       "Render HTML:   0%|          | 0/1 [00:00<?, ?it/s]"
      ]
     },
     "metadata": {},
     "output_type": "display_data"
    },
    {
     "data": {
      "application/vnd.jupyter.widget-view+json": {
       "model_id": "0c1c36f3ad0e4e008ad95649f728d23e",
       "version_major": 2,
       "version_minor": 0
      },
      "text/plain": [
       "Export report to file:   0%|          | 0/1 [00:00<?, ?it/s]"
      ]
     },
     "metadata": {},
     "output_type": "display_data"
    }
   ],
   "source": [
    "# Create the profiling report\n",
    "profile = ProfileReport(df_xy, title=\"Data Profiling Report\")\n",
    "\n",
    "# Export the report to HTML\n",
    "profile.to_file(\"depression.html\")"
   ]
  },
  {
   "cell_type": "markdown",
   "id": "3699dc51-a68e-4ee8-b0bf-71913dcad3db",
   "metadata": {},
   "source": [
    "# Convertion categorical to numeric"
   ]
  },
  {
   "cell_type": "code",
   "execution_count": 23,
   "id": "aeb77bc1-ae7b-46fd-9129-93a899e9b9a4",
   "metadata": {},
   "outputs": [],
   "source": [
    "df_cat = df_xy.select_dtypes(include=[np.dtype('O')])"
   ]
  },
  {
   "cell_type": "code",
   "execution_count": 45,
   "id": "a42e24ba-5b88-4195-b2ba-8c59ec9d6b37",
   "metadata": {},
   "outputs": [
    {
     "data": {
      "text/html": [
       "<div>\n",
       "<style scoped>\n",
       "    .dataframe tbody tr th:only-of-type {\n",
       "        vertical-align: middle;\n",
       "    }\n",
       "\n",
       "    .dataframe tbody tr th {\n",
       "        vertical-align: top;\n",
       "    }\n",
       "\n",
       "    .dataframe thead th {\n",
       "        text-align: right;\n",
       "    }\n",
       "</style>\n",
       "<table border=\"1\" class=\"dataframe\">\n",
       "  <thead>\n",
       "    <tr style=\"text-align: right;\">\n",
       "      <th></th>\n",
       "      <th>Age</th>\n",
       "      <th>Gender</th>\n",
       "      <th>Academic_Year</th>\n",
       "      <th>Scholarship</th>\n",
       "      <th>Depression_Level</th>\n",
       "    </tr>\n",
       "  </thead>\n",
       "  <tbody>\n",
       "    <tr>\n",
       "      <th>0</th>\n",
       "      <td>18-22</td>\n",
       "      <td>Female</td>\n",
       "      <td>Fourth Year or Equivalent</td>\n",
       "      <td>No</td>\n",
       "      <td>Moderate Depression</td>\n",
       "    </tr>\n",
       "    <tr>\n",
       "      <th>1</th>\n",
       "      <td>18-22</td>\n",
       "      <td>Male</td>\n",
       "      <td>First Year or Equivalent</td>\n",
       "      <td>No</td>\n",
       "      <td>Mild Depression</td>\n",
       "    </tr>\n",
       "    <tr>\n",
       "      <th>2</th>\n",
       "      <td>18-22</td>\n",
       "      <td>Male</td>\n",
       "      <td>First Year or Equivalent</td>\n",
       "      <td>No</td>\n",
       "      <td>Moderately Severe Depression</td>\n",
       "    </tr>\n",
       "    <tr>\n",
       "      <th>3</th>\n",
       "      <td>18-22</td>\n",
       "      <td>Male</td>\n",
       "      <td>First Year or Equivalent</td>\n",
       "      <td>No</td>\n",
       "      <td>Mild Depression</td>\n",
       "    </tr>\n",
       "    <tr>\n",
       "      <th>4</th>\n",
       "      <td>18-22</td>\n",
       "      <td>Male</td>\n",
       "      <td>First Year or Equivalent</td>\n",
       "      <td>No</td>\n",
       "      <td>Mild Depression</td>\n",
       "    </tr>\n",
       "    <tr>\n",
       "      <th>...</th>\n",
       "      <td>...</td>\n",
       "      <td>...</td>\n",
       "      <td>...</td>\n",
       "      <td>...</td>\n",
       "      <td>...</td>\n",
       "    </tr>\n",
       "    <tr>\n",
       "      <th>1972</th>\n",
       "      <td>23-26</td>\n",
       "      <td>Male</td>\n",
       "      <td>Fourth Year or Equivalent</td>\n",
       "      <td>No</td>\n",
       "      <td>Moderate Depression</td>\n",
       "    </tr>\n",
       "    <tr>\n",
       "      <th>1973</th>\n",
       "      <td>23-26</td>\n",
       "      <td>Female</td>\n",
       "      <td>Fourth Year or Equivalent</td>\n",
       "      <td>No</td>\n",
       "      <td>Mild Depression</td>\n",
       "    </tr>\n",
       "    <tr>\n",
       "      <th>1974</th>\n",
       "      <td>23-26</td>\n",
       "      <td>Female</td>\n",
       "      <td>Other</td>\n",
       "      <td>No</td>\n",
       "      <td>Severe Depression</td>\n",
       "    </tr>\n",
       "    <tr>\n",
       "      <th>1975</th>\n",
       "      <td>23-26</td>\n",
       "      <td>Male</td>\n",
       "      <td>Fourth Year or Equivalent</td>\n",
       "      <td>No</td>\n",
       "      <td>Moderate Depression</td>\n",
       "    </tr>\n",
       "    <tr>\n",
       "      <th>1976</th>\n",
       "      <td>23-26</td>\n",
       "      <td>Male</td>\n",
       "      <td>Third Year or Equivalent</td>\n",
       "      <td>No</td>\n",
       "      <td>No Depression</td>\n",
       "    </tr>\n",
       "  </tbody>\n",
       "</table>\n",
       "<p>1977 rows × 5 columns</p>\n",
       "</div>"
      ],
      "text/plain": [
       "        Age  Gender              Academic_Year Scholarship  \\\n",
       "0     18-22  Female  Fourth Year or Equivalent          No   \n",
       "1     18-22    Male   First Year or Equivalent          No   \n",
       "2     18-22    Male   First Year or Equivalent          No   \n",
       "3     18-22    Male   First Year or Equivalent          No   \n",
       "4     18-22    Male   First Year or Equivalent          No   \n",
       "...     ...     ...                        ...         ...   \n",
       "1972  23-26    Male  Fourth Year or Equivalent          No   \n",
       "1973  23-26  Female  Fourth Year or Equivalent          No   \n",
       "1974  23-26  Female                      Other          No   \n",
       "1975  23-26    Male  Fourth Year or Equivalent          No   \n",
       "1976  23-26    Male   Third Year or Equivalent          No   \n",
       "\n",
       "                  Depression_Level  \n",
       "0              Moderate Depression  \n",
       "1                  Mild Depression  \n",
       "2     Moderately Severe Depression  \n",
       "3                  Mild Depression  \n",
       "4                  Mild Depression  \n",
       "...                            ...  \n",
       "1972           Moderate Depression  \n",
       "1973               Mild Depression  \n",
       "1974             Severe Depression  \n",
       "1975           Moderate Depression  \n",
       "1976                 No Depression  \n",
       "\n",
       "[1977 rows x 5 columns]"
      ]
     },
     "execution_count": 45,
     "metadata": {},
     "output_type": "execute_result"
    }
   ],
   "source": [
    "df_cat"
   ]
  },
  {
   "cell_type": "code",
   "execution_count": 10,
   "id": "f363a95d-5ef3-4437-8f62-ad88562f0fa0",
   "metadata": {},
   "outputs": [
    {
     "name": "stdout",
     "output_type": "stream",
     "text": [
      "{'Female': 0, 'Male': 1, 'Prefer not to say': 2}\n"
     ]
    }
   ],
   "source": [
    "#transforming object data type into integer for Gender\n",
    "from sklearn.preprocessing import LabelEncoder\n",
    "encoder = LabelEncoder()\n",
    "df_xy[\"Gender\"] = encoder.fit_transform(df_xy[\"Gender\"])\n",
    "\n",
    "print(dict(zip(encoder.classes_, encoder.transform(encoder.classes_))))"
   ]
  },
  {
   "cell_type": "code",
   "execution_count": 11,
   "id": "32cebece-4cf3-4abd-bae9-c2be0f2d432d",
   "metadata": {},
   "outputs": [
    {
     "name": "stdout",
     "output_type": "stream",
     "text": [
      "{'18-22': 0, '23-26': 1, '27-30': 2, 'Above 30': 3, 'Below 18': 4}\n"
     ]
    }
   ],
   "source": [
    "#transforming object data type into integer for Age\n",
    "from sklearn.preprocessing import LabelEncoder\n",
    "encoder = LabelEncoder()\n",
    "df_xy[\"Age\"] = encoder.fit_transform(df_xy[\"Age\"])\n",
    "\n",
    "print(dict(zip(encoder.classes_, encoder.transform(encoder.classes_))))"
   ]
  },
  {
   "cell_type": "code",
   "execution_count": 12,
   "id": "85485b35-14a1-4c6e-a3a6-0554a525f514",
   "metadata": {},
   "outputs": [
    {
     "name": "stdout",
     "output_type": "stream",
     "text": [
      "{'2.50 - 2.99': 0, '3.00 - 3.39': 1, '3.40 - 3.79': 2, '3.80 - 4.00': 3, 'Below 2.50': 4, 'Other': 5}\n"
     ]
    }
   ],
   "source": [
    "#transforming object data type into integer for CGPA\n",
    "from sklearn.preprocessing import LabelEncoder\n",
    "encoder = LabelEncoder()\n",
    "df_xy[\"CGPA\"] = encoder.fit_transform(df_xy[\"CGPA\"])\n",
    "\n",
    "print(dict(zip(encoder.classes_, encoder.transform(encoder.classes_))))"
   ]
  },
  {
   "cell_type": "code",
   "execution_count": 13,
   "id": "363d46c6-d19f-48e4-80de-6abb77236f3e",
   "metadata": {},
   "outputs": [
    {
     "name": "stdout",
     "output_type": "stream",
     "text": [
      "{'First Year or Equivalent': 0, 'Fourth Year or Equivalent': 1, 'Other': 2, 'Second Year or Equivalent': 3, 'Third Year or Equivalent': 4}\n"
     ]
    }
   ],
   "source": [
    "#transforming object data type into integer for Academic_Year\n",
    "from sklearn.preprocessing import LabelEncoder\n",
    "encoder = LabelEncoder()\n",
    "df_xy[\"Academic_Year\"] = encoder.fit_transform(df_xy[\"Academic_Year\"])\n",
    "\n",
    "print(dict(zip(encoder.classes_, encoder.transform(encoder.classes_))))"
   ]
  },
  {
   "cell_type": "code",
   "execution_count": 14,
   "id": "4bbb5dcc-7f44-4fdc-b36d-d8f0eafa6426",
   "metadata": {},
   "outputs": [
    {
     "name": "stdout",
     "output_type": "stream",
     "text": [
      "{'No': 0, 'Yes': 1}\n"
     ]
    }
   ],
   "source": [
    "#transforming object data type into integer for Scholarship\n",
    "from sklearn.preprocessing import LabelEncoder\n",
    "encoder = LabelEncoder()\n",
    "df_xy[\"Scholarship\"] = encoder.fit_transform(df_xy[\"Scholarship\"])\n",
    "\n",
    "print(dict(zip(encoder.classes_, encoder.transform(encoder.classes_))))"
   ]
  },
  {
   "cell_type": "code",
   "execution_count": 15,
   "id": "613bce15-cea9-43cf-b01d-6bf58fc4cd9c",
   "metadata": {},
   "outputs": [
    {
     "name": "stdout",
     "output_type": "stream",
     "text": [
      "{'Mild Depression': 0, 'Minimal Depression': 1, 'Moderate Depression': 2, 'Moderately Severe Depression': 3, 'No Depression': 4, 'Severe Depression': 5}\n"
     ]
    }
   ],
   "source": [
    "#transforming object data type into integer for Depression_level\n",
    "from sklearn.preprocessing import LabelEncoder\n",
    "encoder = LabelEncoder()\n",
    "df_xy[\"Depression_Level\"] = encoder.fit_transform(df_xy[\"Depression_Level\"])\n",
    "\n",
    "print(dict(zip(encoder.classes_, encoder.transform(encoder.classes_))))"
   ]
  },
  {
   "cell_type": "code",
   "execution_count": 22,
   "id": "b213fcd5-87fa-4920-9036-1217a059161a",
   "metadata": {},
   "outputs": [
    {
     "data": {
      "text/plain": [
       "Age                       int32\n",
       "Gender                    int32\n",
       "CGPA                      int32\n",
       "Academic_Year             int32\n",
       "Scholarship               int32\n",
       "No_Interest               int64\n",
       "Hopeless                  int64\n",
       "Sleep_Trouble             int64\n",
       "Low_Energy                int64\n",
       "Appetite_Changes          int64\n",
       "Low_Self_Worth            int64\n",
       "Concentration_Problems    int64\n",
       "Movement_Changes          int64\n",
       "Self_Harm_Thoughts        int64\n",
       "Depression_Level          int32\n",
       "dtype: object"
      ]
     },
     "execution_count": 22,
     "metadata": {},
     "output_type": "execute_result"
    }
   ],
   "source": [
    "df_xy.dtypes"
   ]
  },
  {
   "cell_type": "markdown",
   "id": "7d82cb1e-196e-4277-a13f-3b654edb292d",
   "metadata": {},
   "source": [
    "# Visualization"
   ]
  },
  {
   "cell_type": "code",
   "execution_count": 21,
   "id": "6c23afc7-1ee0-4ac7-9095-5a2facadffd1",
   "metadata": {},
   "outputs": [
    {
     "data": {
      "image/png": "[encoded data removed]",
      "text/plain": [
       "<Figure size 3000x3000 with 16 Axes>"
      ]
     },
     "metadata": {},
     "output_type": "display_data"
    }
   ],
   "source": [
    "%matplotlib inline\n",
    "df_xy.hist(bins=20, figsize=(30,30))\n",
    "plt.show()"
   ]
  },
  {
   "cell_type": "markdown",
   "id": "e2954621-ea25-4ed3-aeb7-9c8e9470e22f",
   "metadata": {},
   "source": [
    "# Numerical X and y (without feature scaling)"
   ]
  },
  {
   "cell_type": "code",
   "execution_count": 117,
   "id": "757a40fe-9482-40fe-bed1-978105d34352",
   "metadata": {},
   "outputs": [],
   "source": [
    "# Separate the Independent and Dependent variables\n",
    "X = df_xy[['Age','Gender','CGPA','Academic_Year','Scholarship', 'No_Interest', 'Hopeless', 'Sleep_Trouble','Low_Energy','Appetite_Changes','Low_Self_Worth', \n",
    "'Concentration_Problems','Movement_Changes','Self_Harm_Thoughts']]\n",
    "y = df_xy['Depression_Level']"
   ]
  },
  {
   "cell_type": "code",
   "execution_count": 118,
   "id": "cd57f3d5-47fc-4326-821e-4b3d226b4be1",
   "metadata": {},
   "outputs": [
    {
     "data": {
      "text/html": [
       "<div>\n",
       "<style scoped>\n",
       "    .dataframe tbody tr th:only-of-type {\n",
       "        vertical-align: middle;\n",
       "    }\n",
       "\n",
       "    .dataframe tbody tr th {\n",
       "        vertical-align: top;\n",
       "    }\n",
       "\n",
       "    .dataframe thead th {\n",
       "        text-align: right;\n",
       "    }\n",
       "</style>\n",
       "<table border=\"1\" class=\"dataframe\">\n",
       "  <thead>\n",
       "    <tr style=\"text-align: right;\">\n",
       "      <th></th>\n",
       "      <th>Age</th>\n",
       "      <th>Gender</th>\n",
       "      <th>CGPA</th>\n",
       "      <th>Academic_Year</th>\n",
       "      <th>Scholarship</th>\n",
       "      <th>No_Interest</th>\n",
       "      <th>Hopeless</th>\n",
       "      <th>Sleep_Trouble</th>\n",
       "      <th>Low_Energy</th>\n",
       "      <th>Appetite_Changes</th>\n",
       "      <th>Low_Self_Worth</th>\n",
       "      <th>Concentration_Problems</th>\n",
       "      <th>Movement_Changes</th>\n",
       "      <th>Self_Harm_Thoughts</th>\n",
       "    </tr>\n",
       "  </thead>\n",
       "  <tbody>\n",
       "    <tr>\n",
       "      <th>0</th>\n",
       "      <td>0</td>\n",
       "      <td>0</td>\n",
       "      <td>0</td>\n",
       "      <td>1</td>\n",
       "      <td>0</td>\n",
       "      <td>1</td>\n",
       "      <td>2</td>\n",
       "      <td>1</td>\n",
       "      <td>1</td>\n",
       "      <td>2</td>\n",
       "      <td>1</td>\n",
       "      <td>1</td>\n",
       "      <td>1</td>\n",
       "      <td>1</td>\n",
       "    </tr>\n",
       "    <tr>\n",
       "      <th>1</th>\n",
       "      <td>0</td>\n",
       "      <td>1</td>\n",
       "      <td>3</td>\n",
       "      <td>0</td>\n",
       "      <td>0</td>\n",
       "      <td>1</td>\n",
       "      <td>1</td>\n",
       "      <td>1</td>\n",
       "      <td>1</td>\n",
       "      <td>1</td>\n",
       "      <td>1</td>\n",
       "      <td>1</td>\n",
       "      <td>1</td>\n",
       "      <td>1</td>\n",
       "    </tr>\n",
       "    <tr>\n",
       "      <th>2</th>\n",
       "      <td>0</td>\n",
       "      <td>1</td>\n",
       "      <td>1</td>\n",
       "      <td>0</td>\n",
       "      <td>0</td>\n",
       "      <td>2</td>\n",
       "      <td>0</td>\n",
       "      <td>2</td>\n",
       "      <td>3</td>\n",
       "      <td>2</td>\n",
       "      <td>2</td>\n",
       "      <td>2</td>\n",
       "      <td>2</td>\n",
       "      <td>1</td>\n",
       "    </tr>\n",
       "    <tr>\n",
       "      <th>3</th>\n",
       "      <td>0</td>\n",
       "      <td>1</td>\n",
       "      <td>2</td>\n",
       "      <td>0</td>\n",
       "      <td>0</td>\n",
       "      <td>1</td>\n",
       "      <td>1</td>\n",
       "      <td>1</td>\n",
       "      <td>1</td>\n",
       "      <td>1</td>\n",
       "      <td>1</td>\n",
       "      <td>1</td>\n",
       "      <td>1</td>\n",
       "      <td>1</td>\n",
       "    </tr>\n",
       "    <tr>\n",
       "      <th>4</th>\n",
       "      <td>0</td>\n",
       "      <td>1</td>\n",
       "      <td>2</td>\n",
       "      <td>0</td>\n",
       "      <td>0</td>\n",
       "      <td>1</td>\n",
       "      <td>1</td>\n",
       "      <td>1</td>\n",
       "      <td>1</td>\n",
       "      <td>1</td>\n",
       "      <td>1</td>\n",
       "      <td>1</td>\n",
       "      <td>1</td>\n",
       "      <td>1</td>\n",
       "    </tr>\n",
       "  </tbody>\n",
       "</table>\n",
       "</div>"
      ],
      "text/plain": [
       "   Age  Gender  CGPA  Academic_Year  Scholarship  No_Interest  Hopeless  \\\n",
       "0    0       0     0              1            0            1         2   \n",
       "1    0       1     3              0            0            1         1   \n",
       "2    0       1     1              0            0            2         0   \n",
       "3    0       1     2              0            0            1         1   \n",
       "4    0       1     2              0            0            1         1   \n",
       "\n",
       "   Sleep_Trouble  Low_Energy  Appetite_Changes  Low_Self_Worth  \\\n",
       "0              1           1                 2               1   \n",
       "1              1           1                 1               1   \n",
       "2              2           3                 2               2   \n",
       "3              1           1                 1               1   \n",
       "4              1           1                 1               1   \n",
       "\n",
       "   Concentration_Problems  Movement_Changes  Self_Harm_Thoughts  \n",
       "0                       1                 1                   1  \n",
       "1                       1                 1                   1  \n",
       "2                       2                 2                   1  \n",
       "3                       1                 1                   1  \n",
       "4                       1                 1                   1  "
      ]
     },
     "execution_count": 118,
     "metadata": {},
     "output_type": "execute_result"
    }
   ],
   "source": [
    "X.head()"
   ]
  },
  {
   "cell_type": "markdown",
   "id": "0ca366c7-2081-4302-a685-ec7e37bdca83",
   "metadata": {},
   "source": [
    "# HoldOut Validation Approach - Train-test split"
   ]
  },
  {
   "cell_type": "code",
   "execution_count": 120,
   "id": "bf11d642-a251-429f-844a-43fd457b9444",
   "metadata": {},
   "outputs": [],
   "source": [
    "# Split the dataset into train and test set\n",
    "from sklearn.model_selection import train_test_split\n",
    "X_train, X_test, y_train, y_test = train_test_split(X, y, test_size=0.30, random_state=0)"
   ]
  },
  {
   "cell_type": "code",
   "execution_count": 123,
   "id": "5854e4d2-ac8a-432c-93e7-d9faecb04278",
   "metadata": {},
   "outputs": [
    {
     "data": {
      "text/html": [
       "<div>\n",
       "<style scoped>\n",
       "    .dataframe tbody tr th:only-of-type {\n",
       "        vertical-align: middle;\n",
       "    }\n",
       "\n",
       "    .dataframe tbody tr th {\n",
       "        vertical-align: top;\n",
       "    }\n",
       "\n",
       "    .dataframe thead th {\n",
       "        text-align: right;\n",
       "    }\n",
       "</style>\n",
       "<table border=\"1\" class=\"dataframe\">\n",
       "  <thead>\n",
       "    <tr style=\"text-align: right;\">\n",
       "      <th></th>\n",
       "      <th>Age</th>\n",
       "      <th>Gender</th>\n",
       "      <th>CGPA</th>\n",
       "      <th>Academic_Year</th>\n",
       "      <th>Scholarship</th>\n",
       "      <th>No_Interest</th>\n",
       "      <th>Hopeless</th>\n",
       "      <th>Sleep_Trouble</th>\n",
       "      <th>Low_Energy</th>\n",
       "      <th>Appetite_Changes</th>\n",
       "      <th>Low_Self_Worth</th>\n",
       "      <th>Concentration_Problems</th>\n",
       "      <th>Movement_Changes</th>\n",
       "      <th>Self_Harm_Thoughts</th>\n",
       "    </tr>\n",
       "  </thead>\n",
       "  <tbody>\n",
       "    <tr>\n",
       "      <th>1273</th>\n",
       "      <td>0.25</td>\n",
       "      <td>0.5</td>\n",
       "      <td>0.6</td>\n",
       "      <td>0.25</td>\n",
       "      <td>0.0</td>\n",
       "      <td>0.333333</td>\n",
       "      <td>1.000000</td>\n",
       "      <td>1.000000</td>\n",
       "      <td>0.666667</td>\n",
       "      <td>0.000000</td>\n",
       "      <td>0.666667</td>\n",
       "      <td>0.000000</td>\n",
       "      <td>0.333333</td>\n",
       "      <td>0.666667</td>\n",
       "    </tr>\n",
       "    <tr>\n",
       "      <th>1726</th>\n",
       "      <td>0.00</td>\n",
       "      <td>0.5</td>\n",
       "      <td>0.2</td>\n",
       "      <td>0.75</td>\n",
       "      <td>1.0</td>\n",
       "      <td>0.000000</td>\n",
       "      <td>1.000000</td>\n",
       "      <td>0.666667</td>\n",
       "      <td>1.000000</td>\n",
       "      <td>1.000000</td>\n",
       "      <td>1.000000</td>\n",
       "      <td>1.000000</td>\n",
       "      <td>0.333333</td>\n",
       "      <td>0.333333</td>\n",
       "    </tr>\n",
       "    <tr>\n",
       "      <th>1480</th>\n",
       "      <td>0.25</td>\n",
       "      <td>0.5</td>\n",
       "      <td>0.2</td>\n",
       "      <td>0.25</td>\n",
       "      <td>0.0</td>\n",
       "      <td>0.000000</td>\n",
       "      <td>0.333333</td>\n",
       "      <td>0.000000</td>\n",
       "      <td>1.000000</td>\n",
       "      <td>0.333333</td>\n",
       "      <td>0.000000</td>\n",
       "      <td>0.000000</td>\n",
       "      <td>0.333333</td>\n",
       "      <td>0.333333</td>\n",
       "    </tr>\n",
       "    <tr>\n",
       "      <th>1798</th>\n",
       "      <td>0.00</td>\n",
       "      <td>0.5</td>\n",
       "      <td>0.2</td>\n",
       "      <td>0.00</td>\n",
       "      <td>0.0</td>\n",
       "      <td>0.666667</td>\n",
       "      <td>0.666667</td>\n",
       "      <td>0.666667</td>\n",
       "      <td>0.666667</td>\n",
       "      <td>0.666667</td>\n",
       "      <td>0.333333</td>\n",
       "      <td>0.333333</td>\n",
       "      <td>1.000000</td>\n",
       "      <td>0.666667</td>\n",
       "    </tr>\n",
       "    <tr>\n",
       "      <th>769</th>\n",
       "      <td>0.00</td>\n",
       "      <td>0.5</td>\n",
       "      <td>0.2</td>\n",
       "      <td>0.25</td>\n",
       "      <td>0.0</td>\n",
       "      <td>0.000000</td>\n",
       "      <td>0.666667</td>\n",
       "      <td>0.666667</td>\n",
       "      <td>0.333333</td>\n",
       "      <td>0.666667</td>\n",
       "      <td>0.666667</td>\n",
       "      <td>0.666667</td>\n",
       "      <td>0.666667</td>\n",
       "      <td>0.666667</td>\n",
       "    </tr>\n",
       "  </tbody>\n",
       "</table>\n",
       "</div>"
      ],
      "text/plain": [
       "       Age  Gender  CGPA  Academic_Year  Scholarship  No_Interest  Hopeless  \\\n",
       "1273  0.25     0.5   0.6           0.25          0.0     0.333333  1.000000   \n",
       "1726  0.00     0.5   0.2           0.75          1.0     0.000000  1.000000   \n",
       "1480  0.25     0.5   0.2           0.25          0.0     0.000000  0.333333   \n",
       "1798  0.00     0.5   0.2           0.00          0.0     0.666667  0.666667   \n",
       "769   0.00     0.5   0.2           0.25          0.0     0.000000  0.666667   \n",
       "\n",
       "      Sleep_Trouble  Low_Energy  Appetite_Changes  Low_Self_Worth  \\\n",
       "1273       1.000000    0.666667          0.000000        0.666667   \n",
       "1726       0.666667    1.000000          1.000000        1.000000   \n",
       "1480       0.000000    1.000000          0.333333        0.000000   \n",
       "1798       0.666667    0.666667          0.666667        0.333333   \n",
       "769        0.666667    0.333333          0.666667        0.666667   \n",
       "\n",
       "      Concentration_Problems  Movement_Changes  Self_Harm_Thoughts  \n",
       "1273                0.000000          0.333333            0.666667  \n",
       "1726                1.000000          0.333333            0.333333  \n",
       "1480                0.000000          0.333333            0.333333  \n",
       "1798                0.333333          1.000000            0.666667  \n",
       "769                 0.666667          0.666667            0.666667  "
      ]
     },
     "execution_count": 123,
     "metadata": {},
     "output_type": "execute_result"
    }
   ],
   "source": [
    "X_train.head()"
   ]
  },
  {
   "cell_type": "markdown",
   "id": "e63a8f18-e0e6-4c15-8525-099dc0426588",
   "metadata": {},
   "source": [
    "# Feature Scaling"
   ]
  },
  {
   "cell_type": "code",
   "execution_count": 122,
   "id": "0456a5a8-2dc2-4044-ba6a-7f768f191dc7",
   "metadata": {},
   "outputs": [],
   "source": [
    "from sklearn.preprocessing import MinMaxScaler\n",
    "scaleVars = ['Age','Gender','CGPA','Academic_Year','Scholarship', 'No_Interest', 'Hopeless', 'Sleep_Trouble','Low_Energy','Appetite_Changes','Low_Self_Worth', \n",
    "'Concentration_Problems','Movement_Changes','Self_Harm_Thoughts']\n",
    "mms = MinMaxScaler()\n",
    "X_train[scaleVars] = mms.fit_transform(X_train[scaleVars])\n",
    "X_test[scaleVars] = mms.transform(X_test[scaleVars])"
   ]
  },
  {
   "cell_type": "code",
   "execution_count": 113,
   "id": "b938536f-4d93-4aba-ac80-0953751a4f3a",
   "metadata": {},
   "outputs": [
    {
     "data": {
      "text/html": [
       "<div>\n",
       "<style scoped>\n",
       "    .dataframe tbody tr th:only-of-type {\n",
       "        vertical-align: middle;\n",
       "    }\n",
       "\n",
       "    .dataframe tbody tr th {\n",
       "        vertical-align: top;\n",
       "    }\n",
       "\n",
       "    .dataframe thead th {\n",
       "        text-align: right;\n",
       "    }\n",
       "</style>\n",
       "<table border=\"1\" class=\"dataframe\">\n",
       "  <thead>\n",
       "    <tr style=\"text-align: right;\">\n",
       "      <th></th>\n",
       "      <th>Age</th>\n",
       "      <th>Gender</th>\n",
       "      <th>CGPA</th>\n",
       "      <th>Academic_Year</th>\n",
       "      <th>Scholarship</th>\n",
       "      <th>No_Interest</th>\n",
       "      <th>Hopeless</th>\n",
       "      <th>Sleep_Trouble</th>\n",
       "      <th>Low_Energy</th>\n",
       "      <th>Appetite_Changes</th>\n",
       "      <th>Low_Self_Worth</th>\n",
       "      <th>Concentration_Problems</th>\n",
       "      <th>Movement_Changes</th>\n",
       "      <th>Self_Harm_Thoughts</th>\n",
       "    </tr>\n",
       "  </thead>\n",
       "  <tbody>\n",
       "    <tr>\n",
       "      <th>326</th>\n",
       "      <td>0.00</td>\n",
       "      <td>0.5</td>\n",
       "      <td>0.0</td>\n",
       "      <td>0.00</td>\n",
       "      <td>0.0</td>\n",
       "      <td>0.000000</td>\n",
       "      <td>1.000000</td>\n",
       "      <td>1.000000</td>\n",
       "      <td>1.000000</td>\n",
       "      <td>1.000000</td>\n",
       "      <td>1.0</td>\n",
       "      <td>0.333333</td>\n",
       "      <td>0.000000</td>\n",
       "      <td>0.000000</td>\n",
       "    </tr>\n",
       "    <tr>\n",
       "      <th>838</th>\n",
       "      <td>0.25</td>\n",
       "      <td>0.0</td>\n",
       "      <td>0.4</td>\n",
       "      <td>0.25</td>\n",
       "      <td>0.0</td>\n",
       "      <td>0.000000</td>\n",
       "      <td>1.000000</td>\n",
       "      <td>1.000000</td>\n",
       "      <td>1.000000</td>\n",
       "      <td>1.000000</td>\n",
       "      <td>1.0</td>\n",
       "      <td>1.000000</td>\n",
       "      <td>1.000000</td>\n",
       "      <td>0.666667</td>\n",
       "    </tr>\n",
       "    <tr>\n",
       "      <th>535</th>\n",
       "      <td>0.25</td>\n",
       "      <td>0.5</td>\n",
       "      <td>0.0</td>\n",
       "      <td>1.00</td>\n",
       "      <td>0.0</td>\n",
       "      <td>0.333333</td>\n",
       "      <td>0.333333</td>\n",
       "      <td>0.333333</td>\n",
       "      <td>0.333333</td>\n",
       "      <td>0.000000</td>\n",
       "      <td>1.0</td>\n",
       "      <td>1.000000</td>\n",
       "      <td>0.666667</td>\n",
       "      <td>0.333333</td>\n",
       "    </tr>\n",
       "    <tr>\n",
       "      <th>788</th>\n",
       "      <td>0.00</td>\n",
       "      <td>0.5</td>\n",
       "      <td>0.4</td>\n",
       "      <td>0.00</td>\n",
       "      <td>0.0</td>\n",
       "      <td>0.333333</td>\n",
       "      <td>1.000000</td>\n",
       "      <td>1.000000</td>\n",
       "      <td>1.000000</td>\n",
       "      <td>0.666667</td>\n",
       "      <td>1.0</td>\n",
       "      <td>1.000000</td>\n",
       "      <td>1.000000</td>\n",
       "      <td>0.000000</td>\n",
       "    </tr>\n",
       "    <tr>\n",
       "      <th>1083</th>\n",
       "      <td>0.00</td>\n",
       "      <td>0.5</td>\n",
       "      <td>0.4</td>\n",
       "      <td>1.00</td>\n",
       "      <td>0.0</td>\n",
       "      <td>0.333333</td>\n",
       "      <td>0.000000</td>\n",
       "      <td>0.000000</td>\n",
       "      <td>0.333333</td>\n",
       "      <td>0.000000</td>\n",
       "      <td>0.0</td>\n",
       "      <td>0.000000</td>\n",
       "      <td>0.000000</td>\n",
       "      <td>0.000000</td>\n",
       "    </tr>\n",
       "  </tbody>\n",
       "</table>\n",
       "</div>"
      ],
      "text/plain": [
       "       Age  Gender  CGPA  Academic_Year  Scholarship  No_Interest  Hopeless  \\\n",
       "326   0.00     0.5   0.0           0.00          0.0     0.000000  1.000000   \n",
       "838   0.25     0.0   0.4           0.25          0.0     0.000000  1.000000   \n",
       "535   0.25     0.5   0.0           1.00          0.0     0.333333  0.333333   \n",
       "788   0.00     0.5   0.4           0.00          0.0     0.333333  1.000000   \n",
       "1083  0.00     0.5   0.4           1.00          0.0     0.333333  0.000000   \n",
       "\n",
       "      Sleep_Trouble  Low_Energy  Appetite_Changes  Low_Self_Worth  \\\n",
       "326        1.000000    1.000000          1.000000             1.0   \n",
       "838        1.000000    1.000000          1.000000             1.0   \n",
       "535        0.333333    0.333333          0.000000             1.0   \n",
       "788        1.000000    1.000000          0.666667             1.0   \n",
       "1083       0.000000    0.333333          0.000000             0.0   \n",
       "\n",
       "      Concentration_Problems  Movement_Changes  Self_Harm_Thoughts  \n",
       "326                 0.333333          0.000000            0.000000  \n",
       "838                 1.000000          1.000000            0.666667  \n",
       "535                 1.000000          0.666667            0.333333  \n",
       "788                 1.000000          1.000000            0.000000  \n",
       "1083                0.000000          0.000000            0.000000  "
      ]
     },
     "execution_count": 113,
     "metadata": {},
     "output_type": "execute_result"
    }
   ],
   "source": [
    "X_train.head()"
   ]
  },
  {
   "cell_type": "code",
   "execution_count": 105,
   "id": "8930510c-f11f-435e-b7ae-bff3d867e8b7",
   "metadata": {},
   "outputs": [
    {
     "data": {
      "text/html": [
       "<div>\n",
       "<style scoped>\n",
       "    .dataframe tbody tr th:only-of-type {\n",
       "        vertical-align: middle;\n",
       "    }\n",
       "\n",
       "    .dataframe tbody tr th {\n",
       "        vertical-align: top;\n",
       "    }\n",
       "\n",
       "    .dataframe thead th {\n",
       "        text-align: right;\n",
       "    }\n",
       "</style>\n",
       "<table border=\"1\" class=\"dataframe\">\n",
       "  <thead>\n",
       "    <tr style=\"text-align: right;\">\n",
       "      <th></th>\n",
       "      <th>Age</th>\n",
       "      <th>Gender</th>\n",
       "      <th>CGPA</th>\n",
       "      <th>Academic_Year</th>\n",
       "      <th>Scholarship</th>\n",
       "      <th>No_Interest</th>\n",
       "      <th>Hopeless</th>\n",
       "      <th>Sleep_Trouble</th>\n",
       "      <th>Low_Energy</th>\n",
       "      <th>Appetite_Changes</th>\n",
       "      <th>Low_Self_Worth</th>\n",
       "      <th>Concentration_Problems</th>\n",
       "      <th>Movement_Changes</th>\n",
       "      <th>Self_Harm_Thoughts</th>\n",
       "    </tr>\n",
       "  </thead>\n",
       "  <tbody>\n",
       "    <tr>\n",
       "      <th>1679</th>\n",
       "      <td>0.25</td>\n",
       "      <td>0.5</td>\n",
       "      <td>0.4</td>\n",
       "      <td>0.25</td>\n",
       "      <td>0.0</td>\n",
       "      <td>0.333333</td>\n",
       "      <td>0.333333</td>\n",
       "      <td>0.666667</td>\n",
       "      <td>0.666667</td>\n",
       "      <td>0.333333</td>\n",
       "      <td>0.333333</td>\n",
       "      <td>0.333333</td>\n",
       "      <td>0.666667</td>\n",
       "      <td>0.333333</td>\n",
       "    </tr>\n",
       "    <tr>\n",
       "      <th>1192</th>\n",
       "      <td>0.25</td>\n",
       "      <td>0.0</td>\n",
       "      <td>0.4</td>\n",
       "      <td>0.25</td>\n",
       "      <td>0.0</td>\n",
       "      <td>0.000000</td>\n",
       "      <td>1.000000</td>\n",
       "      <td>1.000000</td>\n",
       "      <td>1.000000</td>\n",
       "      <td>1.000000</td>\n",
       "      <td>1.000000</td>\n",
       "      <td>1.000000</td>\n",
       "      <td>1.000000</td>\n",
       "      <td>1.000000</td>\n",
       "    </tr>\n",
       "    <tr>\n",
       "      <th>1744</th>\n",
       "      <td>0.50</td>\n",
       "      <td>0.5</td>\n",
       "      <td>0.0</td>\n",
       "      <td>0.25</td>\n",
       "      <td>0.0</td>\n",
       "      <td>0.333333</td>\n",
       "      <td>0.666667</td>\n",
       "      <td>0.333333</td>\n",
       "      <td>1.000000</td>\n",
       "      <td>0.666667</td>\n",
       "      <td>0.666667</td>\n",
       "      <td>1.000000</td>\n",
       "      <td>0.333333</td>\n",
       "      <td>0.333333</td>\n",
       "    </tr>\n",
       "    <tr>\n",
       "      <th>666</th>\n",
       "      <td>0.00</td>\n",
       "      <td>1.0</td>\n",
       "      <td>1.0</td>\n",
       "      <td>0.75</td>\n",
       "      <td>0.0</td>\n",
       "      <td>1.000000</td>\n",
       "      <td>1.000000</td>\n",
       "      <td>1.000000</td>\n",
       "      <td>0.000000</td>\n",
       "      <td>0.333333</td>\n",
       "      <td>1.000000</td>\n",
       "      <td>1.000000</td>\n",
       "      <td>0.333333</td>\n",
       "      <td>1.000000</td>\n",
       "    </tr>\n",
       "    <tr>\n",
       "      <th>850</th>\n",
       "      <td>0.00</td>\n",
       "      <td>0.0</td>\n",
       "      <td>0.2</td>\n",
       "      <td>0.25</td>\n",
       "      <td>0.0</td>\n",
       "      <td>0.000000</td>\n",
       "      <td>0.666667</td>\n",
       "      <td>0.333333</td>\n",
       "      <td>0.666667</td>\n",
       "      <td>0.666667</td>\n",
       "      <td>0.666667</td>\n",
       "      <td>0.333333</td>\n",
       "      <td>0.000000</td>\n",
       "      <td>0.666667</td>\n",
       "    </tr>\n",
       "  </tbody>\n",
       "</table>\n",
       "</div>"
      ],
      "text/plain": [
       "       Age  Gender  CGPA  Academic_Year  Scholarship  No_Interest  Hopeless  \\\n",
       "1679  0.25     0.5   0.4           0.25          0.0     0.333333  0.333333   \n",
       "1192  0.25     0.0   0.4           0.25          0.0     0.000000  1.000000   \n",
       "1744  0.50     0.5   0.0           0.25          0.0     0.333333  0.666667   \n",
       "666   0.00     1.0   1.0           0.75          0.0     1.000000  1.000000   \n",
       "850   0.00     0.0   0.2           0.25          0.0     0.000000  0.666667   \n",
       "\n",
       "      Sleep_Trouble  Low_Energy  Appetite_Changes  Low_Self_Worth  \\\n",
       "1679       0.666667    0.666667          0.333333        0.333333   \n",
       "1192       1.000000    1.000000          1.000000        1.000000   \n",
       "1744       0.333333    1.000000          0.666667        0.666667   \n",
       "666        1.000000    0.000000          0.333333        1.000000   \n",
       "850        0.333333    0.666667          0.666667        0.666667   \n",
       "\n",
       "      Concentration_Problems  Movement_Changes  Self_Harm_Thoughts  \n",
       "1679                0.333333          0.666667            0.333333  \n",
       "1192                1.000000          1.000000            1.000000  \n",
       "1744                1.000000          0.333333            0.333333  \n",
       "666                 1.000000          0.333333            1.000000  \n",
       "850                 0.333333          0.000000            0.666667  "
      ]
     },
     "execution_count": 105,
     "metadata": {},
     "output_type": "execute_result"
    }
   ],
   "source": [
    "X_test.tail()"
   ]
  },
  {
   "cell_type": "markdown",
   "id": "b5d979ff-bdc6-4c22-9c50-7ab8ec56eef4",
   "metadata": {},
   "source": [
    "# Models"
   ]
  },
  {
   "cell_type": "code",
   "execution_count": 146,
   "id": "2d175574-8073-48ba-98bf-65e9d80ecb9b",
   "metadata": {},
   "outputs": [],
   "source": [
    "from sklearn.metrics import accuracy_score, precision_score, recall_score, f1_score, roc_auc_score, classification_report\n",
    "from sklearn.neighbors import KNeighborsClassifier\n",
    "from sklearn.tree import DecisionTreeClassifier\n",
    "from sklearn.linear_model import LogisticRegression\n",
    "from sklearn.svm import SVC\n",
    "from sklearn.ensemble import RandomForestClassifier, GradientBoostingClassifier\n",
    "from sklearn.naive_bayes import GaussianNB"
   ]
  },
  {
   "cell_type": "markdown",
   "id": "953ed2b2-5586-45bc-9556-173fb7c81fb5",
   "metadata": {},
   "source": [
    "# Model train and scores "
   ]
  },
  {
   "cell_type": "code",
   "execution_count": 92,
   "id": "1572d37c-f1f3-4eeb-b1dc-b9c37ae8e0c0",
   "metadata": {},
   "outputs": [
    {
     "name": "stdout",
     "output_type": "stream",
     "text": [
      "Accuracy  0.7491582491582491\n"
     ]
    }
   ],
   "source": [
    "from sklearn.tree import DecisionTreeClassifier\n",
    "from sklearn.metrics import accuracy_score\n",
    "clf = DecisionTreeClassifier()\n",
    "clf.fit(X_train, y_train)\n",
    "y_pred = clf.predict(X_test)\n",
    "print(\"Accuracy \", accuracy_score(y_test, y_pred))"
   ]
  },
  {
   "cell_type": "markdown",
   "id": "b02959f5-3017-4775-86bb-ae613d7d605e",
   "metadata": {},
   "source": [
    "## Depression Model Training for Decision Tree Classifier"
   ]
  },
  {
   "cell_type": "code",
   "execution_count": 125,
   "id": "0057c66b-0a19-4055-97b0-672f07077890",
   "metadata": {},
   "outputs": [
    {
     "name": "stdout",
     "output_type": "stream",
     "text": [
      "Depression Model Accuracy: 0.7676767676767676\n",
      "Depression Model Report:\n",
      "               precision    recall  f1-score   support\n",
      "\n",
      "           0       0.80      0.76      0.78       116\n",
      "           1       0.77      0.86      0.81        35\n",
      "           2       0.69      0.68      0.69       136\n",
      "           3       0.71      0.70      0.71       154\n",
      "           4       1.00      1.00      1.00        12\n",
      "           5       0.85      0.89      0.87       141\n",
      "\n",
      "    accuracy                           0.77       594\n",
      "   macro avg       0.80      0.81      0.81       594\n",
      "weighted avg       0.77      0.77      0.77       594\n",
      "\n"
     ]
    }
   ],
   "source": [
    "dep_model = DecisionTreeClassifier()\n",
    "dep_model.fit(X_train, y_train)\n",
    "y_pred = dep_model.predict(X_test)\n",
    "\n",
    "print(\"Depression Model Accuracy:\", accuracy_score(y_test, y_pred))\n",
    "print(\"Depression Model Report:\\n\", classification_report(y_test, y_pred))"
   ]
  },
  {
   "cell_type": "markdown",
   "id": "a9600f29-4057-46ba-b1eb-a5086a366a1f",
   "metadata": {},
   "source": [
    "# Depression Model Training for Random Forest Classifier"
   ]
  },
  {
   "cell_type": "code",
   "execution_count": 139,
   "id": "a26c7d6a-5b5d-4a63-8270-e292cc55c0a0",
   "metadata": {},
   "outputs": [
    {
     "name": "stdout",
     "output_type": "stream",
     "text": [
      "Depression Model Accuracy: 0.8400673400673401\n",
      "Depression Model Report:\n",
      "               precision    recall  f1-score   support\n",
      "\n",
      "           0       0.79      0.87      0.83       116\n",
      "           1       1.00      0.31      0.48        35\n",
      "           2       0.78      0.82      0.80       136\n",
      "           3       0.84      0.84      0.84       154\n",
      "           4       0.75      1.00      0.86        12\n",
      "           5       0.94      0.96      0.95       141\n",
      "\n",
      "    accuracy                           0.84       594\n",
      "   macro avg       0.85      0.80      0.79       594\n",
      "weighted avg       0.85      0.84      0.83       594\n",
      "\n"
     ]
    }
   ],
   "source": [
    "clf = RandomForestClassifier(n_estimators=300,criterion='entropy',\n",
    "                             max_features='sqrt',min_samples_leaf=10,random_state=100).fit(X_train, y_train)\n",
    "y_pred = clf.predict(X_test)\n",
    "\n",
    "print(\"Depression Model Accuracy:\", accuracy_score(y_test, y_pred))\n",
    "print(\"Depression Model Report:\\n\", classification_report(y_test, y_pred))"
   ]
  },
  {
   "cell_type": "markdown",
   "id": "66081f8b-c0f0-409d-9490-c0eff41e5f7d",
   "metadata": {},
   "source": [
    "# Depression Model Training for Gradient Boosting Classifier"
   ]
  },
  {
   "cell_type": "code",
   "execution_count": 142,
   "id": "d83f182e-cfdc-473d-968d-d59d3cb2e352",
   "metadata": {},
   "outputs": [
    {
     "name": "stdout",
     "output_type": "stream",
     "text": [
      "Depression Model Accuracy: 0.8754208754208754\n",
      "Depression Model Report:\n",
      "               precision    recall  f1-score   support\n",
      "\n",
      "           0       0.86      0.84      0.85       116\n",
      "           1       0.78      0.80      0.79        35\n",
      "           2       0.82      0.85      0.83       136\n",
      "           3       0.88      0.86      0.87       154\n",
      "           4       1.00      1.00      1.00        12\n",
      "           5       0.96      0.96      0.96       141\n",
      "\n",
      "    accuracy                           0.88       594\n",
      "   macro avg       0.88      0.88      0.88       594\n",
      "weighted avg       0.88      0.88      0.88       594\n",
      "\n"
     ]
    }
   ],
   "source": [
    "\n",
    "clf = GradientBoostingClassifier(random_state=42)\n",
    "clf.fit(X_train, y_train)\n",
    "y_pred = clf.predict(X_test)\n",
    "\n",
    "print(\"Depression Model Accuracy:\", accuracy_score(y_test, y_pred))\n",
    "print(\"Depression Model Report:\\n\", classification_report(y_test, y_pred))"
   ]
  },
  {
   "cell_type": "markdown",
   "id": "b6f4a0cc-fd06-4c96-ae04-d11c0b5e1c24",
   "metadata": {},
   "source": [
    "# Depression Model Training for Logistic Regression"
   ]
  },
  {
   "cell_type": "code",
   "execution_count": 144,
   "id": "c32830fe-8e15-45e3-9c60-698229f3e47e",
   "metadata": {},
   "outputs": [
    {
     "name": "stdout",
     "output_type": "stream",
     "text": [
      "Depression Model Accuracy: 0.9107744107744108\n",
      "Depression Model Report:\n",
      "               precision    recall  f1-score   support\n",
      "\n",
      "           0       0.79      0.97      0.87       116\n",
      "           1       0.53      0.26      0.35        35\n",
      "           2       0.97      0.89      0.93       136\n",
      "           3       0.96      0.99      0.97       154\n",
      "           4       0.50      0.33      0.40        12\n",
      "           5       1.00      1.00      1.00       141\n",
      "\n",
      "    accuracy                           0.91       594\n",
      "   macro avg       0.79      0.74      0.75       594\n",
      "weighted avg       0.90      0.91      0.90       594\n",
      "\n"
     ]
    }
   ],
   "source": [
    "\n",
    "clf = LogisticRegression(random_state=42, max_iter=1000)\n",
    "clf.fit(X_train, y_train)\n",
    "y_pred = clf.predict(X_test)\n",
    "\n",
    "print(\"Depression Model Accuracy:\", accuracy_score(y_test, y_pred))\n",
    "print(\"Depression Model Report:\\n\", classification_report(y_test, y_pred))"
   ]
  },
  {
   "cell_type": "markdown",
   "id": "63ce4270-ffe5-45a3-b056-b6c2ed4781ba",
   "metadata": {},
   "source": [
    "# Depression Model Training for GaussianNB"
   ]
  },
  {
   "cell_type": "code",
   "execution_count": 147,
   "id": "9094b243-94b0-494c-bbdd-eeafb6920d77",
   "metadata": {},
   "outputs": [
    {
     "name": "stdout",
     "output_type": "stream",
     "text": [
      "Depression Model Accuracy: 0.8417508417508418\n",
      "Depression Model Report:\n",
      "               precision    recall  f1-score   support\n",
      "\n",
      "           0       0.80      0.84      0.82       116\n",
      "           1       0.90      0.77      0.83        35\n",
      "           2       0.80      0.73      0.76       136\n",
      "           3       0.81      0.89      0.85       154\n",
      "           4       1.00      1.00      1.00        12\n",
      "           5       0.93      0.91      0.92       141\n",
      "\n",
      "    accuracy                           0.84       594\n",
      "   macro avg       0.87      0.86      0.86       594\n",
      "weighted avg       0.84      0.84      0.84       594\n",
      "\n"
     ]
    }
   ],
   "source": [
    "\n",
    "clf = GaussianNB()\n",
    "clf.fit(X_train, y_train)\n",
    "y_pred = clf.predict(X_test)\n",
    "\n",
    "print(\"Depression Model Accuracy:\", accuracy_score(y_test, y_pred))\n",
    "print(\"Depression Model Report:\\n\", classification_report(y_test, y_pred))"
   ]
  },
  {
   "cell_type": "markdown",
   "id": "3dba1edb-5000-43ea-ac2f-2e8433830cbd",
   "metadata": {},
   "source": [
    "# Depression Model Training for KNN"
   ]
  },
  {
   "cell_type": "code",
   "execution_count": 148,
   "id": "3b8ade83-549a-4e52-8955-783450c1ff27",
   "metadata": {},
   "outputs": [
    {
     "name": "stdout",
     "output_type": "stream",
     "text": [
      "Depression Model Accuracy: 0.8198653198653199\n",
      "Depression Model Report:\n",
      "               precision    recall  f1-score   support\n",
      "\n",
      "           0       0.72      0.92      0.81       116\n",
      "           1       0.86      0.54      0.67        35\n",
      "           2       0.79      0.67      0.73       136\n",
      "           3       0.86      0.81      0.83       154\n",
      "           4       0.69      0.92      0.79        12\n",
      "           5       0.91      0.96      0.93       141\n",
      "\n",
      "    accuracy                           0.82       594\n",
      "   macro avg       0.81      0.80      0.79       594\n",
      "weighted avg       0.83      0.82      0.82       594\n",
      "\n"
     ]
    }
   ],
   "source": [
    "clf = KNeighborsClassifier(n_neighbors=5)\n",
    "clf.fit(X_train, y_train)\n",
    "y_pred = clf.predict(X_test)\n",
    "\n",
    "print(\"Depression Model Accuracy:\", accuracy_score(y_test, y_pred))\n",
    "print(\"Depression Model Report:\\n\", classification_report(y_test, y_pred))"
   ]
  },
  {
   "cell_type": "markdown",
   "id": "8d519821-824a-477f-8087-f6fd437aaaef",
   "metadata": {},
   "source": [
    "# Depression Model Training for SVC"
   ]
  },
  {
   "cell_type": "code",
   "execution_count": 149,
   "id": "ec247586-450b-4408-b560-80447323d2ef",
   "metadata": {},
   "outputs": [
    {
     "name": "stdout",
     "output_type": "stream",
     "text": [
      "Depression Model Accuracy: 0.9461279461279462\n",
      "Depression Model Report:\n",
      "               precision    recall  f1-score   support\n",
      "\n",
      "           0       0.90      0.96      0.93       116\n",
      "           1       0.92      0.66      0.77        35\n",
      "           2       0.96      0.94      0.95       136\n",
      "           3       0.95      0.99      0.97       154\n",
      "           4       0.73      0.92      0.81        12\n",
      "           5       1.00      0.97      0.99       141\n",
      "\n",
      "    accuracy                           0.95       594\n",
      "   macro avg       0.91      0.91      0.90       594\n",
      "weighted avg       0.95      0.95      0.95       594\n",
      "\n"
     ]
    }
   ],
   "source": [
    "clf = SVC(kernel='rbf', random_state=42)\n",
    "clf.fit(X_train, y_train)\n",
    "y_pred = clf.predict(X_test)\n",
    "\n",
    "print(\"Depression Model Accuracy:\", accuracy_score(y_test, y_pred))\n",
    "print(\"Depression Model Report:\\n\", classification_report(y_test, y_pred))"
   ]
  },
  {
   "cell_type": "markdown",
   "id": "545f6b51-7240-49d4-98b0-522844751a64",
   "metadata": {},
   "source": [
    "# All models with scores"
   ]
  },
  {
   "cell_type": "code",
   "execution_count": 154,
   "id": "27b00064-6fca-4425-828c-7f334b5d37bf",
   "metadata": {},
   "outputs": [],
   "source": [
    "def evaluate_classifiers(X_train, y_train, X_test, y_test):\n",
    "    classifiers = {\n",
    "        'KNN': KNeighborsClassifier(),\n",
    "        'Decision Tree': DecisionTreeClassifier(),\n",
    "        'Logistic Regression': LogisticRegression(max_iter=1000),\n",
    "        'SVC': SVC(kernel='poly', random_state=42),\n",
    "        'Random Forest': RandomForestClassifier(),\n",
    "        'Gradient Boosting': GradientBoostingClassifier(random_state=42),\n",
    "        'Naive Bayes': GaussianNB()\n",
    "    }\n",
    "    \n",
    "    results = pd.DataFrame(columns=['Accuracy', 'Precision', 'Recall', 'F1 Score'])\n",
    "    \n",
    "    for name, classifier in classifiers.items():\n",
    "        classifier.fit(X_train, y_train)\n",
    "        predictions = classifier.predict(X_test)\n",
    "        \n",
    "        accuracy = accuracy_score(y_test, predictions)\n",
    "        precision = precision_score(y_test, predictions, average='macro', zero_division=0)\n",
    "        recall = recall_score(y_test, predictions, average='macro', zero_division=0)\n",
    "        f1 = f1_score(y_test, predictions, average='macro', zero_division=0)\n",
    "        \n",
    "        results.loc[name] = [accuracy, precision, recall, f1]\n",
    "    \n",
    "    return results\n",
    "\n"
   ]
  },
  {
   "cell_type": "code",
   "execution_count": 155,
   "id": "e1f49ba1-ac32-4396-a7ff-624fc2383fc3",
   "metadata": {},
   "outputs": [
    {
     "name": "stdout",
     "output_type": "stream",
     "text": [
      "For Depression:\n",
      "                     Accuracy  Precision    Recall  F1 Score\n",
      "KNN                  0.819865   0.805639  0.802283  0.791916\n",
      "Decision Tree        0.781145   0.814553  0.824414  0.819145\n",
      "Logistic Regression  0.910774   0.790645  0.741304  0.753411\n",
      "SVC                  0.962963   0.858692  0.833680  0.838817\n",
      "Random Forest        0.875421   0.897637  0.885299  0.890892\n",
      "Gradient Boosting    0.875421   0.881746  0.884168  0.882850\n",
      "Naive Bayes          0.841751   0.873358  0.855498  0.862819\n"
     ]
    }
   ],
   "source": [
    "results_df = evaluate_classifiers(X_train, y_train, X_test, y_test)\n",
    "print(\"For Depression:\")\n",
    "print(results_df)"
   ]
  },
  {
   "cell_type": "markdown",
   "id": "07115eed-2d44-42bc-86fc-75014a65ba6a",
   "metadata": {},
   "source": [
    "# Stratified Train Test Split"
   ]
  },
  {
   "cell_type": "code",
   "execution_count": 94,
   "id": "27a973bd-01e1-4dd4-8c26-09d7659e2592",
   "metadata": {},
   "outputs": [],
   "source": [
    "X_train, X_test, y_train, y_test = train_test_split(X, y, test_size = 0.30, random_state = 0, stratify = y)\n"
   ]
  },
  {
   "cell_type": "markdown",
   "id": "eb3bb939-ba9c-4c6a-af99-27b87095aab3",
   "metadata": {},
   "source": [
    "# Feature Scaling"
   ]
  },
  {
   "cell_type": "code",
   "execution_count": 96,
   "id": "8bd29183-5267-497f-9363-a2fc24c61250",
   "metadata": {},
   "outputs": [],
   "source": [
    "from sklearn.preprocessing import MinMaxScaler\n",
    "scaleVars = ['Age','Gender','CGPA','Academic_Year','Scholarship', 'No_Interest', 'Hopeless', 'Sleep_Trouble','Low_Energy','Appetite_Changes','Low_Self_Worth', \n",
    "'Concentration_Problems','Movement_Changes','Self_Harm_Thoughts']\n",
    "mms = MinMaxScaler()\n",
    "X_train[scaleVars] = mms.fit_transform(X_train[scaleVars])\n",
    "X_test[scaleVars] = mms.transform(X_test[scaleVars])"
   ]
  },
  {
   "cell_type": "markdown",
   "id": "0433b7ae-8f73-44c1-90d3-6616f4057acf",
   "metadata": {},
   "source": [
    "# Model train and scores "
   ]
  },
  {
   "cell_type": "code",
   "execution_count": 97,
   "id": "89d4cafa-f2ae-4940-9388-59e41a076b3c",
   "metadata": {},
   "outputs": [
    {
     "name": "stdout",
     "output_type": "stream",
     "text": [
      "Accuracy  0.7508417508417509\n",
      "Depression_Level\n",
      "3    346\n",
      "5    341\n",
      "2    314\n",
      "0    286\n",
      "1     65\n",
      "4     31\n",
      "Name: count, dtype: int64\n"
     ]
    }
   ],
   "source": [
    "clf = DecisionTreeClassifier()\n",
    "clf.fit(X_train, y_train)\n",
    "y_pred = clf.predict(X_test)\n",
    "print(\"Accuracy \", accuracy_score(y_test, y_pred))\n",
    "print(y_train.value_counts())"
   ]
  },
  {
   "cell_type": "markdown",
   "id": "5aa49156-a31c-4dcb-9f13-70833dfd11b6",
   "metadata": {},
   "source": [
    "# K Fold Cross Validation"
   ]
  },
  {
   "cell_type": "code",
   "execution_count": 84,
   "id": "da781eb0-ef67-41d5-83ef-8b6a3f9d85a3",
   "metadata": {},
   "outputs": [],
   "source": [
    "from sklearn.model_selection import KFold, cross_val_score\n",
    "import numpy as np\n",
    "kfold_validation = KFold(n_splits = 10, shuffle = True, random_state = 42)"
   ]
  },
  {
   "cell_type": "markdown",
   "id": "7cbd77bb-3ca1-413a-8143-5abe695477a3",
   "metadata": {},
   "source": [
    "# Model train and scores "
   ]
  },
  {
   "cell_type": "code",
   "execution_count": 103,
   "id": "53941539-46b2-4150-aae6-bedaf382332d",
   "metadata": {},
   "outputs": [
    {
     "name": "stdout",
     "output_type": "stream",
     "text": [
      "[0.75757576 0.78282828 0.70707071 0.83838384 0.73232323 0.75252525\n",
      " 0.78787879 0.76649746 0.75634518 0.71573604]\n",
      "\n",
      "Results =  0.7597164538788904 +/- 0.036174182237032206\n"
     ]
    }
   ],
   "source": [
    "clf = DecisionTreeClassifier()\n",
    "\n",
    "results = cross_val_score(clf, X, y, cv = kfold_validation)\n",
    "print(results)\n",
    "print()\n",
    "print (\"Results = \", np.mean(results), \"+/-\", np.std(results))"
   ]
  },
  {
   "cell_type": "markdown",
   "id": "590a6e15-2041-4e8a-8c1a-d19eb5e938a3",
   "metadata": {},
   "source": [
    "# Stratified K Fold Cross Validation"
   ]
  },
  {
   "cell_type": "code",
   "execution_count": 137,
   "id": "ce9fb603-0592-4630-968e-b8be4d0f0998",
   "metadata": {},
   "outputs": [],
   "source": [
    "# For imbalance dataset\n",
    "from sklearn.model_selection import StratifiedKFold,cross_validate\n",
    "skfold = StratifiedKFold(n_splits=15,shuffle=True, random_state=42)\n"
   ]
  },
  {
   "cell_type": "markdown",
   "id": "aeaea7ea-de88-4f1d-9a8d-be40cd081e2e",
   "metadata": {},
   "source": [
    "# Model train and scores "
   ]
  },
  {
   "cell_type": "code",
   "execution_count": 130,
   "id": "0ebf970d-b2eb-4664-af58-4627ce3eccc8",
   "metadata": {},
   "outputs": [
    {
     "name": "stdout",
     "output_type": "stream",
     "text": [
      "[0.78787879 0.8030303  0.71212121 0.71969697 0.75       0.76515152\n",
      " 0.78787879 0.8030303  0.8030303  0.74242424 0.77272727 0.71969697\n",
      " 0.80152672 0.75572519 0.77862595]\n",
      "\n",
      "Results =  0.7668363019508058 +/- 0.031237150209720854\n"
     ]
    }
   ],
   "source": [
    "clf = DecisionTreeClassifier()\n",
    "results = cross_val_score(clf, X, y, cv = skfold)\n",
    "print(results)\n",
    "print()\n",
    "print (\"Results = \", np.mean(results), \"+/-\", np.std(results))"
   ]
  },
  {
   "cell_type": "markdown",
   "id": "adea5998-0424-4333-ac0e-2701464b3835",
   "metadata": {},
   "source": [
    "## Depression Model Training for Decision Tree Classifier"
   ]
  },
  {
   "cell_type": "code",
   "execution_count": 138,
   "id": "e181726d-06c7-4252-a9b2-668389bfae74",
   "metadata": {},
   "outputs": [
    {
     "name": "stdout",
     "output_type": "stream",
     "text": [
      "Accuracy: 0.7663 +/- 0.0377\n",
      "Precision_macro: 0.8118 +/- 0.0373\n",
      "Recall_macro: 0.8045 +/- 0.0358\n",
      "F1_macro: 0.8034 +/- 0.0341\n",
      "\n",
      "Test Set Accuracy: 0.7760942760942761\n",
      "\n",
      "Classification Report:\n",
      "               precision    recall  f1-score   support\n",
      "\n",
      "           0       0.79      0.77      0.78       116\n",
      "           1       0.78      0.83      0.81        35\n",
      "           2       0.70      0.68      0.69       136\n",
      "           3       0.72      0.73      0.73       154\n",
      "           4       1.00      1.00      1.00        12\n",
      "           5       0.86      0.89      0.88       141\n",
      "\n",
      "    accuracy                           0.78       594\n",
      "   macro avg       0.81      0.82      0.81       594\n",
      "weighted avg       0.78      0.78      0.78       594\n",
      "\n"
     ]
    }
   ],
   "source": [
    "clf = DecisionTreeClassifier()\n",
    "\n",
    "\n",
    "# Multiple metrics\n",
    "scoring = ['accuracy', 'precision_macro', 'recall_macro', 'f1_macro']\n",
    "\n",
    "# Perform cross-validation\n",
    "results = cross_validate(clf, X, y, cv=skfold, scoring=scoring, return_train_score=False)\n",
    "\n",
    "# Print mean ± std for each metric\n",
    "for metric in scoring:\n",
    "    print(f\"{metric.capitalize()}: {np.mean(results[f'test_{metric}']):.4f} +/- {np.std(results[f'test_{metric}']):.4f}\")\n",
    "\n",
    "# Train on full training set and evaluate on test set\n",
    "clf.fit(X_train, y_train)\n",
    "y_pred = clf.predict(X_test)\n",
    "\n",
    "print(\"\\nTest Set Accuracy:\", accuracy_score(y_test, y_pred))\n",
    "print(\"\\nClassification Report:\\n\", classification_report(y_test, y_pred))"
   ]
  },
  {
   "cell_type": "code",
   "execution_count": null,
   "id": "3e750742-d936-4cfd-bd3b-dd3d074e5067",
   "metadata": {},
   "outputs": [],
   "source": []
  }
 ],
 "metadata": {
  "kernelspec": {
   "display_name": "Python 3 (ipykernel)",
   "language": "python",
   "name": "python3"
  },
  "language_info": {
   "codemirror_mode": {
    "name": "ipython",
    "version": 3
   },
   "file_extension": ".py",
   "mimetype": "text/x-python",
   "name": "python",
   "nbconvert_exporter": "python",
   "pygments_lexer": "ipython3",
   "version": "3.12.7"
  }
 },
 "nbformat": 4,
 "nbformat_minor": 5
}
