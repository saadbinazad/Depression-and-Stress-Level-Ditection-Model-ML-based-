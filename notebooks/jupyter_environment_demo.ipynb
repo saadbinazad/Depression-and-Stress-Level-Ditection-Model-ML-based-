{
 "cells": [
  {
   "cell_type": "markdown",
   "id": "2cb1e017",
   "metadata": {},
   "source": [
    "# Jupyter Extension Verification & Usage Demo\n",
    "\n",
    "This notebook demonstrates core Jupyter workflows inside VS Code now that the Jupyter extension is installed."
   ]
  },
  {
   "cell_type": "markdown",
   "id": "6642f231",
   "metadata": {},
   "source": [
    "## 1. Verify Jupyter & Environment Versions\n",
    "Below we print versions for Python and key Jupyter-related packages (if installed)."
   ]
  },
  {
   "cell_type": "code",
   "execution_count": null,
   "id": "21e75693",
   "metadata": {},
   "outputs": [],
   "source": [
    "import sys, platform, importlib\n",
    "print(\"Python:\", platform.python_version())\n",
    "for m in [\"jupyter\", \"ipykernel\", \"notebook\", \"nbconvert\"]:\n",
    "    try:\n",
    "        mod = importlib.import_module(m)\n",
    "        ver = getattr(mod, \"__version__\", \"(no __version__ attr)\")\n",
    "        print(f\"{m}: {ver}\")\n",
    "    except Exception as e:\n",
    "        print(f\"{m}: NOT INSTALLED ({e.__class__.__name__})\")\n",
    "\n",
    "# List a few installed top-level packages (truncated)\n",
    "import pkgutil\n",
    "installed = sorted({m.name.split('.')[0] for m in pkgutil.iter_modules()})[:40]\n",
    "print(\"Sample installed packages:\", installed)"
   ]
  },
  {
   "cell_type": "markdown",
   "id": "756d3347",
   "metadata": {},
   "source": [
    "## 2. Create Sample Data (NumPy & Pandas)\n",
    "We generate a small synthetic dataset for later demonstrations."
   ]
  },
  {
   "cell_type": "code",
   "execution_count": null,
   "id": "eb9a7d16",
   "metadata": {},
   "outputs": [],
   "source": [
    "import numpy as np, pandas as pd\n",
    "np.random.seed(42)\n",
    "rows = 50\n",
    "sample_df = pd.DataFrame({\n",
    "    \"feature_a\": np.random.randn(rows),\n",
    "    \"feature_b\": np.random.randint(0, 100, size=rows),\n",
    "    \"category\": np.random.choice([\"Low\", \"Medium\", \"High\"], size=rows),\n",
    "    \"target\": np.random.choice([0,1], size=rows, p=[0.6,0.4])\n",
    "})\n",
    "sample_df.head()"
   ]
  },
  {
   "cell_type": "markdown",
   "id": "6f503ba4",
   "metadata": {},
   "source": [
    "## 3. Basic Cell Execution Demo\n",
    "Execution order matters. Re-running a cell updates state."
   ]
  },
  {
   "cell_type": "code",
   "execution_count": null,
   "id": "1b059bf1",
   "metadata": {},
   "outputs": [],
   "source": [
    "# Initialize a counter\n",
    "counter = 0\n",
    "counter"
   ]
  },
  {
   "cell_type": "code",
   "execution_count": null,
   "id": "7da1d3b2",
   "metadata": {},
   "outputs": [],
   "source": [
    "# Increment the counter\n",
    "counter += 1\n",
    "print(\"Counter now:\", counter)"
   ]
  },
  {
   "cell_type": "code",
   "execution_count": null,
   "id": "7de53993",
   "metadata": {},
   "outputs": [],
   "source": [
    "# Out-of-order execution example: This expects counter variable\n",
    "try:\n",
    "    print(\"Counter squared:\", counter**2)\n",
    "except NameError:\n",
    "    print(\"Run the initialization cell first!\")"
   ]
  },
  {
   "cell_type": "markdown",
   "id": "b3cddb25",
   "metadata": {},
   "source": [
    "## 4. Kernel Selection Check\n",
    "Confirm current interpreter path & version."
   ]
  },
  {
   "cell_type": "code",
   "execution_count": null,
   "id": "c77cbfaa",
   "metadata": {},
   "outputs": [],
   "source": [
    "import sys, platform\n",
    "print(\"Executable:\", sys.executable)\n",
    "print(\"Version:\", sys.version)"
   ]
  },
  {
   "cell_type": "markdown",
   "id": "f4d934c8",
   "metadata": {},
   "source": [
    "## 5. Using Line & Cell Magics\n",
    "Magics provide convenient shortcuts for common tasks."
   ]
  },
  {
   "cell_type": "code",
   "execution_count": null,
   "id": "4c4d840d",
   "metadata": {},
   "outputs": [],
   "source": [
    "# List available magics (only works in IPython environment)\n",
    "%lsmagic"
   ]
  },
  {
   "cell_type": "code",
   "execution_count": null,
   "id": "60b9c04e",
   "metadata": {},
   "outputs": [],
   "source": [
    "import numpy as np\n",
    "%timeit np.random.rand(1000).sum()"
   ]
  },
  {
   "cell_type": "code",
   "execution_count": null,
   "id": "63fb9338",
   "metadata": {},
   "outputs": [],
   "source": [
    "%%timeit\n",
    "# Multi-line timing block\n",
    "s = 0\n",
    "for i in range(1000):\n",
    "    s += i"
   ]
  },
  {
   "cell_type": "code",
   "execution_count": null,
   "id": "3c531bf4",
   "metadata": {},
   "outputs": [],
   "source": [
    "%pwd"
   ]
  },
  {
   "cell_type": "code",
   "execution_count": null,
   "id": "d9c3c3af",
   "metadata": {},
   "outputs": [],
   "source": [
    "# Inline matplotlib backend\n",
    "%matplotlib inline"
   ]
  },
  {
   "cell_type": "code",
   "execution_count": null,
   "id": "8211725a",
   "metadata": {},
   "outputs": [],
   "source": [
    "%%writefile demo_magic_example.py\n",
    "# Simple file written from a cell magic\n",
    "print(\"Hello from a file written by a cell magic!\")"
   ]
  },
  {
   "cell_type": "markdown",
   "id": "c8654d74",
   "metadata": {},
   "source": [
    "## 6. Markdown vs Code Cells Example\n",
    "Below: Markdown formatting and a code cell whose result is referenced in text."
   ]
  },
  {
   "cell_type": "markdown",
   "id": "31db493d",
   "metadata": {},
   "source": [
    "### Markdown Features\n",
    "- **Bold**, *italics*, `inline code`\n",
    "1. Ordered list item\n",
    "2. Another item\n",
    "\n",
    "> Block quote example.\n",
    "\n",
    "Math (rendered if extension supports it): $E=mc^2$.\n",
    "\n",
    "We'll compute a simple statistic in the next cell."
   ]
  },
  {
   "cell_type": "code",
   "execution_count": null,
   "id": "4b0b6c44",
   "metadata": {},
   "outputs": [],
   "source": [
    "mean_a = sample_df['feature_a'].mean()\n",
    "mean_a"
   ]
  },
  {
   "cell_type": "markdown",
   "id": "0b04243e",
   "metadata": {},
   "source": [
    "The mean of feature_a computed above can inform scaling decisions in modeling workflows."
   ]
  },
  {
   "cell_type": "markdown",
   "id": "1fd1966f",
   "metadata": {},
   "source": [
    "## 7. DataFrame Display & Styling\n",
    "Compare plain vs styled DataFrame output."
   ]
  },
  {
   "cell_type": "code",
   "execution_count": null,
   "id": "5413cff7",
   "metadata": {},
   "outputs": [],
   "source": [
    "# Plain display\n",
    "sample_df.head(10)"
   ]
  },
  {
   "cell_type": "code",
   "execution_count": null,
   "id": "cd5e9e1b",
   "metadata": {},
   "outputs": [],
   "source": [
    "# Styled display with gradient\n",
    "styled = sample_df.head(10).style.background_gradient(cmap='Blues')\n",
    "styled"
   ]
  },
  {
   "cell_type": "markdown",
   "id": "8963c4e8",
   "metadata": {},
   "source": [
    "## 8. Inline Plotting with Matplotlib\n",
    "Basic plots for exploration."
   ]
  },
  {
   "cell_type": "code",
   "execution_count": null,
   "id": "f5ac61ec",
   "metadata": {},
   "outputs": [],
   "source": [
    "import matplotlib.pyplot as plt\n",
    "fig, axes = plt.subplots(1,2, figsize=(10,4))\n",
    "axes[0].plot(sample_df['feature_a'][:20], marker='o')\n",
    "axes[0].set_title('Line Plot feature_a (first 20)')\n",
    "axes[1].hist(sample_df['feature_b'], bins=10, color='orange', edgecolor='k')\n",
    "axes[1].set_title('Histogram feature_b')\n",
    "plt.tight_layout()"
   ]
  },
  {
   "cell_type": "markdown",
   "id": "c9fc380b",
   "metadata": {},
   "source": [
    "## 9. Variable Explorer Friendly Objects\n",
    "Creating diverse objects visible in variable explorer panels."
   ]
  },
  {
   "cell_type": "code",
   "execution_count": null,
   "id": "2bada1c9",
   "metadata": {},
   "outputs": [],
   "source": [
    "my_list = list(range(10))\n",
    "my_dict = {f\"k{i}\": i**2 for i in range(5)}\n",
    "my_array = np.random.randn(5,3)\n",
    "my_small_df = sample_df[['feature_a','feature_b']].head()\n",
    "print(\"Objects created: my_list, my_dict, my_array, my_small_df\")"
   ]
  },
  {
   "cell_type": "markdown",
   "id": "1030f807",
   "metadata": {},
   "source": [
    "## 10. Saving & Exporting Notebook\n",
    "Programmatic save and export hints."
   ]
  },
  {
   "cell_type": "code",
   "execution_count": null,
   "id": "98ebb841",
   "metadata": {},
   "outputs": [],
   "source": [
    "# Trigger a save (may vary by front-end). In VS Code this JS may not run; left for reference.\n",
    "try:\n",
    "    from IPython.display import display, Javascript\n",
    "    display(Javascript('Jupyter.notebook.save_checkpoint();'))\n",
    "except Exception as e:\n",
    "    print(\"Programmatic save not supported here:\", e)\n",
    "\n",
    "print(\"To export: Use the command palette or run nbconvert below (if installed).\")"
   ]
  },
  {
   "cell_type": "code",
   "execution_count": null,
   "id": "2a3cb473",
   "metadata": {},
   "outputs": [],
   "source": [
    "# (Optional) HTML export via nbconvert if available\n",
    "import shutil, os\n",
    "if shutil.which('jupyter'):\n",
    "    os.system('jupyter nbconvert --to html jupyter_environment_demo.ipynb || echo \"nbconvert failed or not installed\"')\n",
    "else:\n",
    "    print(\"jupyter command not found; skipping export\")"
   ]
  },
  {
   "cell_type": "markdown",
   "id": "322374e9",
   "metadata": {},
   "source": [
    "## 11. Running Notebook Headless from Terminal\n",
    "Use CLI tools for automated execution."
   ]
  },
  {
   "cell_type": "code",
   "execution_count": null,
   "id": "828ba9b6",
   "metadata": {},
   "outputs": [],
   "source": [
    "print(\"Example commands (run in a terminal, not necessarily inside this cell):\")\n",
    "print(\"jupyter nbconvert --to notebook --execute jupyter_environment_demo.ipynb --output executed.ipynb\")\n",
    "print(\"If papermill installed:\")\n",
    "print(\"papermill jupyter_environment_demo.ipynb executed_pm.ipynb\")"
   ]
  },
  {
   "cell_type": "markdown",
   "id": "ed948190",
   "metadata": {},
   "source": [
    "---\n",
    "**End of Notebook**"
   ]
  },
  {
   "cell_type": "code",
   "execution_count": null,
   "id": "1d2adade",
   "metadata": {},
   "outputs": [],
   "source": []
  }
 ],
 "metadata": {
  "language_info": {
   "name": "python"
  }
 },
 "nbformat": 4,
 "nbformat_minor": 5
}
